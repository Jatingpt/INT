{
  "nbformat": 4,
  "nbformat_minor": 0,
  "metadata": {
    "colab": {
      "provenance": [],
      "authorship_tag": "ABX9TyNHt46BAD5c+RrQ7NCoxgdl",
      "include_colab_link": true
    },
    "kernelspec": {
      "name": "python3",
      "display_name": "Python 3"
    },
    "language_info": {
      "name": "python"
    }
  },
  "cells": [
    {
      "cell_type": "markdown",
      "metadata": {
        "id": "view-in-github",
        "colab_type": "text"
      },
      "source": [
        "<a href=\"https://colab.research.google.com/github/Jatingpt/INT/blob/main/int.ipynb\" target=\"_parent\"><img src=\"https://colab.research.google.com/assets/colab-badge.svg\" alt=\"Open In Colab\"/></a>"
      ]
    },
    {
      "cell_type": "code",
      "source": [
        "# 🧠 Chetu AI/ML Interview Practice Kit\n",
        "\n",
        "## ✅ 1. Subarray With Given Sum (Non-negative Integers)\n",
        "def subarray_with_given_sum(arr, target):\n",
        "    start = 0\n",
        "    current_sum = 0\n",
        "    for end in range(len(arr)):\n",
        "        current_sum += arr[end]\n",
        "        while current_sum > target:\n",
        "            current_sum -= arr[start]\n",
        "            start += 1\n",
        "        if current_sum == target:\n",
        "            return arr[start:end+1]\n",
        "    return []\n",
        "\n",
        "# 🧪 Example\n",
        "print(subarray_with_given_sum([1, 2, 3, 7, 5], 12))  # Output: [2, 3, 7]\n",
        "\n",
        "\n",
        "## ✅ 2. First Missing Positive Integer\n",
        "def first_missing_positive(nums):\n",
        "    nums = set(nums)\n",
        "    i = 1\n",
        "    while i in nums:\n",
        "        i += 1\n",
        "    return i\n",
        "\n",
        "print(first_missing_positive([3, 4, -1, 1]))  # Output: 2\n",
        "\n",
        "\n",
        "## ✅ 3. Elements Occurring > n/4 Times\n",
        "from collections import Counter\n",
        "\n",
        "def elements_more_than_n_by_k(arr, k):\n",
        "    count = Counter(arr)\n",
        "    return [key for key, val in count.items() if val > len(arr) // k]\n",
        "\n",
        "print(elements_more_than_n_by_k([1,2,2,3,3,3,4], 4))  # Output: [3]\n",
        "\n",
        "\n",
        "## ✅ 4. Data Cleaning + Grouping (Pandas)\n",
        "import pandas as pd\n",
        "\n",
        "def clean_and_group_data(df):\n",
        "    df.dropna(inplace=True)\n",
        "    df['total'] = df['price'] * df['quantity']\n",
        "    return df.groupby('category')['total'].sum().reset_index()\n",
        "\n",
        "# 🧪 Sample\n",
        "sample_df = pd.DataFrame({\n",
        "    'category': ['A', 'B', 'A', 'B'],\n",
        "    'price': [100, 200, 150, 250],\n",
        "    'quantity': [2, 1, 3, 1]\n",
        "})\n",
        "print(clean_and_group_data(sample_df))\n",
        "\n",
        "\n",
        "## ✅ 5. NumPy Matrix Operations\n",
        "import numpy as np\n",
        "\n",
        "def matrix_operations():\n",
        "    A = np.array([[1, 2], [3, 4]])\n",
        "    B = np.array([[5, 6], [7, 8]])\n",
        "    return A + B, A @ B, np.linalg.inv(A)\n",
        "\n",
        "sum_, prod_, inv_ = matrix_operations()\n",
        "print(\"Sum:\\n\", sum_)\n",
        "print(\"Product:\\n\", prod_)\n",
        "print(\"Inverse of A:\\n\", inv_)\n",
        "\n",
        "\n",
        "## ✅ 6. Logistic Regression Pipeline\n",
        "from sklearn.linear_model import LogisticRegression\n",
        "from sklearn.model_selection import train_test_split\n",
        "from sklearn.metrics import accuracy_score\n",
        "\n",
        "def logistic_regression_pipeline(X, y):\n",
        "    X_train, X_test, y_train, y_test = train_test_split(X, y, test_size=0.2)\n",
        "    model = LogisticRegression()\n",
        "    model.fit(X_train, y_train)\n",
        "    return accuracy_score(y_test, model.predict(X_test))\n",
        "\n",
        "\n",
        "## ✅ 7. Decision Tree Classifier\n",
        "from sklearn.tree import DecisionTreeClassifier\n",
        "\n",
        "def decision_tree_example(X, y):\n",
        "    model = DecisionTreeClassifier()\n",
        "    model.fit(X, y)\n",
        "    return model.predict(X)\n",
        "\n",
        "\n",
        "## ✅ 8. Feature Engineering Example\n",
        "def feature_engineering(df):\n",
        "    df['price_log'] = np.log1p(df['price'])\n",
        "    df['interaction'] = df['price'] * df['quantity']\n",
        "    return df\n",
        "\n",
        "\n",
        "## ✅ 9. TF-IDF Vectorization for NLP\n",
        "from sklearn.feature_extraction.text import TfidfVectorizer\n",
        "\n",
        "def get_tfidf_features(texts):\n",
        "    vectorizer = TfidfVectorizer(ngram_range=(1,2), stop_words='english')\n",
        "    return vectorizer.fit_transform(texts)\n",
        "\n",
        "\n",
        "## 🔄 Example Usage of TF-IDF\n",
        "texts = [\"I love AI and ML\", \"ML and AI are the future\"]\n",
        "tfidf_matrix = get_tfidf_features(texts)\n",
        "print(tfidf_matrix.shape)  # Sparse matrix shape\n",
        "\n",
        "\n",
        "## 🧠 Interview Question Ideas:\n",
        "# 1. Write code to remove outliers from a dataset using IQR method.\n",
        "# 2. Explain the difference between overfitting and underfitting with a live ML example.\n",
        "# 3. What is the purpose of 'stratify=y' in train_test_split?\n",
        "# 4. Build a neural network with 3 layers using PyTorch or Keras.\n",
        "# 5. Write SQL query to rank products within categories by sales.\n",
        "# 6. Implement cosine similarity function from scratch.\n",
        "# 7. Build an end-to-end pipeline for spam classification using TF-IDF + Naive Bayes.\n",
        "# 8. Predict house prices using linear regression and evaluate using R^2 and MAE.\n",
        "# 9. Create a dashboard using Plotly/Matplotlib to show sales trends.\n",
        "# 10. Use GridSearchCV for hyperparameter tuning of a RandomForestClassifier."
      ],
      "metadata": {
        "id": "5BrPR5xKFMTA",
        "outputId": "4e9bbaa7-fb46-4817-cb41-13665a447795",
        "colab": {
          "base_uri": "https://localhost:8080/"
        }
      },
      "execution_count": null,
      "outputs": [
        {
          "output_type": "stream",
          "name": "stdout",
          "text": [
            "[2, 3, 7]\n",
            "2\n",
            "[2, 3]\n",
            "  category  total\n",
            "0        A    650\n",
            "1        B    450\n",
            "Sum:\n",
            " [[ 6  8]\n",
            " [10 12]]\n",
            "Product:\n",
            " [[19 22]\n",
            " [43 50]]\n",
            "Inverse of A:\n",
            " [[-2.   1. ]\n",
            " [ 1.5 -0.5]]\n",
            "(2, 8)\n"
          ]
        }
      ]
    },
    {
      "cell_type": "code",
      "execution_count": null,
      "metadata": {
        "colab": {
          "base_uri": "https://localhost:8080/"
        },
        "id": "wo3iJ4Wh4SIO",
        "outputId": "d3eb2deb-c602-4330-ebf3-9e93cc3c4e34"
      },
      "outputs": [
        {
          "output_type": "stream",
          "name": "stdout",
          "text": [
            "1 1\n",
            "2 4\n",
            "3 9\n",
            "4 16\n",
            "5 25\n",
            "6 36\n",
            "7 49\n",
            "8 64\n",
            "9 81\n",
            "10 100\n"
          ]
        }
      ],
      "source": [
        "#Square of first 10 numbers\n",
        "for i in range(1,11):\n",
        "  print(i, i*i)"
      ]
    },
    {
      "cell_type": "code",
      "source": [
        "#To find first 10 non-repeating character.\n",
        "def first_non_repeating(s):\n",
        "  from collections import Counter\n",
        "  char_count = Counter(s)\n",
        "  for char in s:\n",
        "    if char_count[char] == 1:\n",
        "      return char\n",
        "  return None\n",
        "\n",
        "s = \"aabbclcddeffg\"\n",
        "result = first_non_repeating(s)\n",
        "result"
      ],
      "metadata": {
        "colab": {
          "base_uri": "https://localhost:8080/",
          "height": 36
        },
        "id": "cuAnDx2h4ej3",
        "outputId": "ad1e88f1-17b5-4aa2-f802-54d4b594cf9f"
      },
      "execution_count": null,
      "outputs": [
        {
          "output_type": "execute_result",
          "data": {
            "text/plain": [
              "'l'"
            ],
            "application/vnd.google.colaboratory.intrinsic+json": {
              "type": "string"
            }
          },
          "metadata": {},
          "execution_count": 4
        }
      ]
    },
    {
      "cell_type": "code",
      "source": [
        "#find the largest and second largest number in a list.\n",
        "a = [11,23,21,34,5,55,33,22,677,222,348,383]\n",
        "a.sort(reverse = True)\n",
        "print(\"The largest number in this list is\", a[0])\n",
        "print(\"The second largest number in this list is\", a[1])"
      ],
      "metadata": {
        "colab": {
          "base_uri": "https://localhost:8080/"
        },
        "id": "bPE2He5r68pl",
        "outputId": "55f7e689-5d29-4da6-e09f-0f696bc91a93"
      },
      "execution_count": null,
      "outputs": [
        {
          "output_type": "stream",
          "name": "stdout",
          "text": [
            "The largest number in this list is 677\n",
            "The second largest number in this list is 383\n"
          ]
        }
      ]
    },
    {
      "cell_type": "code",
      "source": [
        "#reverse a string without using reverse and slice method.\n",
        "a = \"ris olleh\"\n",
        "rev_str = \"\"\n",
        "for i in a:\n",
        "  rev_str = i + rev_str\n",
        "print(rev_str)"
      ],
      "metadata": {
        "colab": {
          "base_uri": "https://localhost:8080/"
        },
        "id": "0TbLf_Q27LxG",
        "outputId": "b3e11642-ae0d-4988-97be-9be2fb265879"
      },
      "execution_count": null,
      "outputs": [
        {
          "output_type": "stream",
          "name": "stdout",
          "text": [
            "hello sir\n"
          ]
        }
      ]
    },
    {
      "cell_type": "code",
      "source": [
        "#find the sum of first 20 number.\n",
        "sum = 0\n",
        "for i in range(2,41):\n",
        "  sum = sum+i\n",
        "print(sum)"
      ],
      "metadata": {
        "colab": {
          "base_uri": "https://localhost:8080/"
        },
        "id": "Ivha-Ofm81fd",
        "outputId": "6cd0264a-4bae-4398-ed58-25ddbce87a4c"
      },
      "execution_count": null,
      "outputs": [
        {
          "output_type": "stream",
          "name": "stdout",
          "text": [
            "819\n"
          ]
        }
      ]
    },
    {
      "cell_type": "code",
      "source": [
        "#remove duplicate values from a list.\n",
        "a = [1,2,3,1,2,1,3,1,2,13]\n",
        "a = set(a)\n",
        "print(list(a))"
      ],
      "metadata": {
        "colab": {
          "base_uri": "https://localhost:8080/"
        },
        "id": "m-Uqvstq9IkA",
        "outputId": "2867e1d2-0dc6-42f5-9c1a-b6c396354f5e"
      },
      "execution_count": null,
      "outputs": [
        {
          "output_type": "stream",
          "name": "stdout",
          "text": [
            "[1, 2, 3, 13]\n"
          ]
        }
      ]
    },
    {
      "cell_type": "code",
      "source": [
        "#to check whether the passed letter is a string or not.\n",
        "letter = input('Pass the letter to check the vowels: ')\n",
        "if letter in \"AEIOUaeiou\":\n",
        "  print(\"This is a vowel.\")\n",
        "else:\n",
        "  print(\"Not a vowel\")"
      ],
      "metadata": {
        "colab": {
          "base_uri": "https://localhost:8080/"
        },
        "id": "a-R8uJlz9Ulj",
        "outputId": "aaae6e43-de21-48d6-e64b-89b47e18eb77"
      },
      "execution_count": null,
      "outputs": [
        {
          "output_type": "stream",
          "name": "stdout",
          "text": [
            "Pass the letter to check the vowels: e\n",
            "This is a vowel.\n"
          ]
        }
      ]
    },
    {
      "cell_type": "code",
      "source": [
        "#three ways to format.\n",
        "name = \"Jatin\"\n",
        "salary = \"4300\"\n",
        "print(f\"My name is {name}, salary is {salary}\")\n",
        "print(\"My name is {}, salary is {}\".format(name, salary))\n",
        "print(\"My name is {0}, salary is {1}\".format(name,salary))"
      ],
      "metadata": {
        "colab": {
          "base_uri": "https://localhost:8080/"
        },
        "id": "GSEnlvTr9p1U",
        "outputId": "0ee96a09-df66-48ea-9f3e-1c930f94df7f"
      },
      "execution_count": null,
      "outputs": [
        {
          "output_type": "stream",
          "name": "stdout",
          "text": [
            "My name is Jatin, salary is 4300\n",
            "My name is Jatin, salary is 4300\n",
            "My name is Jatin, salary is 4300\n"
          ]
        }
      ]
    },
    {
      "cell_type": "code",
      "source": [
        "#for a given list rotate the list by one position\n",
        "lst = [10, 20, 30, 40]\n",
        "def rotate_right_by_one(lst):\n",
        "    if not lst:\n",
        "        return lst\n",
        "    return [lst[-1]] + lst[:-1]\n",
        "rotated = [lst[-1]] + lst[:-1] if lst else lst\n",
        "print(rotate_right_by_one(lst))\n"
      ],
      "metadata": {
        "colab": {
          "base_uri": "https://localhost:8080/"
        },
        "id": "Y95V0Dr093zG",
        "outputId": "f270573c-6713-4fd9-bc8d-c988f2ddda03"
      },
      "execution_count": null,
      "outputs": [
        {
          "output_type": "stream",
          "name": "stdout",
          "text": [
            "[40, 10, 20, 30]\n"
          ]
        }
      ]
    },
    {
      "cell_type": "code",
      "source": [
        "#to check if two list have any common elements.\n",
        "a = [1,2,3,4,5]\n",
        "b = [4,5,6,7,8]\n",
        "a = set(a)\n",
        "b = set(b)\n",
        "print(list(a.intersection(b)))"
      ],
      "metadata": {
        "colab": {
          "base_uri": "https://localhost:8080/"
        },
        "id": "MqWUq28rDh0k",
        "outputId": "5aa63c9f-59ac-4cd1-bf01-343a79b06c90"
      },
      "execution_count": null,
      "outputs": [
        {
          "output_type": "stream",
          "name": "stdout",
          "text": [
            "[4, 5]\n"
          ]
        }
      ]
    },
    {
      "cell_type": "code",
      "source": [
        "#flatten a nested list\n",
        "a = [[1,2], [3,4], [5,6]]\n",
        "flatten_list = [i for i in a for i in i]\n",
        "flatten_list"
      ],
      "metadata": {
        "colab": {
          "base_uri": "https://localhost:8080/"
        },
        "id": "WIDqwxs9DzoY",
        "outputId": "87c4e182-a2a6-4c99-bef6-f9e5afee634a"
      },
      "execution_count": null,
      "outputs": [
        {
          "output_type": "execute_result",
          "data": {
            "text/plain": [
              "[1, 2, 3, 4, 5, 6]"
            ]
          },
          "metadata": {},
          "execution_count": 27
        }
      ]
    },
    {
      "cell_type": "code",
      "source": [
        "a[0]+a[1]+a[2]"
      ],
      "metadata": {
        "colab": {
          "base_uri": "https://localhost:8080/"
        },
        "id": "CCyzRRhGEDkS",
        "outputId": "3c65b4b1-b4e7-4b99-8360-cd4012589ca6"
      },
      "execution_count": null,
      "outputs": [
        {
          "output_type": "execute_result",
          "data": {
            "text/plain": [
              "[1, 2, 3, 4, 5, 6]"
            ]
          },
          "metadata": {},
          "execution_count": 28
        }
      ]
    },
    {
      "cell_type": "code",
      "source": [
        "#find the cumulative sum of elements in a list.\n",
        "from itertools import accumulate\n",
        "a = [1,2,3,4,5,6,7,8,9,10]\n",
        "cum_sum = list(accumulate(a))\n",
        "cum_sum"
      ],
      "metadata": {
        "colab": {
          "base_uri": "https://localhost:8080/"
        },
        "id": "uu2i4l_LEHyt",
        "outputId": "71dcf828-bc9c-4458-ce5a-725a553fe98e"
      },
      "execution_count": null,
      "outputs": [
        {
          "output_type": "execute_result",
          "data": {
            "text/plain": [
              "[1, 3, 6, 10, 15, 21, 28, 36, 45, 55]"
            ]
          },
          "metadata": {},
          "execution_count": 29
        }
      ]
    },
    {
      "cell_type": "code",
      "source": [
        "#swap two variable\n",
        "a = 45\n",
        "b = 32\n",
        "a,b = b,a\n",
        "print(a)\n",
        "print(b)"
      ],
      "metadata": {
        "colab": {
          "base_uri": "https://localhost:8080/"
        },
        "id": "kacuMdokGFdC",
        "outputId": "3849aa33-7120-458a-9781-84d6fb8490dc"
      },
      "execution_count": null,
      "outputs": [
        {
          "output_type": "stream",
          "name": "stdout",
          "text": [
            "32\n",
            "45\n"
          ]
        }
      ]
    },
    {
      "cell_type": "code",
      "source": [
        "#remove duplicates from a list while preserving the orders.\n",
        "a = [1,2,3,23,2,3,2,3,2,3,4443,2,442,2]\n",
        "unique = list(dict.fromkeys(a))\n",
        "print(unique)"
      ],
      "metadata": {
        "colab": {
          "base_uri": "https://localhost:8080/"
        },
        "id": "s0hnex6kGOaK",
        "outputId": "c04b6d8b-e05a-4374-8d35-2ebd11d8e953"
      },
      "execution_count": null,
      "outputs": [
        {
          "output_type": "stream",
          "name": "stdout",
          "text": [
            "[1, 2, 3, 23, 4443, 442]\n"
          ]
        }
      ]
    },
    {
      "cell_type": "code",
      "source": [
        "#calculate the frequency of each character in a string\n",
        "from collections import Counter\n",
        "a = \"banana\"\n",
        "freq = Counter(a)\n",
        "freq\n",
        "\n"
      ],
      "metadata": {
        "colab": {
          "base_uri": "https://localhost:8080/"
        },
        "id": "UUjFhp9hG32O",
        "outputId": "9cf43519-6a82-40f9-dc2a-3e57422c95c8"
      },
      "execution_count": null,
      "outputs": [
        {
          "output_type": "execute_result",
          "data": {
            "text/plain": [
              "Counter({'b': 1, 'a': 3, 'n': 2})"
            ]
          },
          "metadata": {},
          "execution_count": 32
        }
      ]
    },
    {
      "cell_type": "code",
      "source": [
        "#Check if two strings are anagram.\n",
        "def are_anagram(str1,str2):\n",
        "  return sorted(str1) == sorted(str2)\n",
        "\n",
        "print(are_anagram(\"listen\",\"silent\"))"
      ],
      "metadata": {
        "colab": {
          "base_uri": "https://localhost:8080/"
        },
        "id": "JC0bBMX_HfXS",
        "outputId": "dbf5018a-37ec-4dc6-e36c-c392fcb2ae5b"
      },
      "execution_count": null,
      "outputs": [
        {
          "output_type": "stream",
          "name": "stdout",
          "text": [
            "True\n"
          ]
        }
      ]
    },
    {
      "cell_type": "code",
      "source": [
        "#check if a number is prime.\n",
        "def check_prime(n):\n",
        "  if n <= 1:\n",
        "    print(\"Not a prime number.\")\n",
        "  else:\n",
        "    for i in range(2, int(n**0.5) + 1):\n",
        "      if n % i == 0:\n",
        "        print(\"Not a prime number.\")\n",
        "        break\n",
        "    else:\n",
        "      print(\"A prime number.\")\n",
        "check_prime(7)"
      ],
      "metadata": {
        "colab": {
          "base_uri": "https://localhost:8080/"
        },
        "id": "Mip49YZKI5Fq",
        "outputId": "b7d0f10f-b7a7-4d8d-d11d-59f0eac43d02"
      },
      "execution_count": null,
      "outputs": [
        {
          "output_type": "stream",
          "name": "stdout",
          "text": [
            "A prime number.\n"
          ]
        }
      ]
    },
    {
      "cell_type": "code",
      "source": [
        "#check palindrome\n",
        "n = input(\"Enter anything to find the palindrome: \")\n",
        "if n == n[::-1]:\n",
        "  print(\"It is a palindrome.\")\n",
        "else:\n",
        "  print(\"Not a palindrome.\")"
      ],
      "metadata": {
        "colab": {
          "base_uri": "https://localhost:8080/"
        },
        "id": "mivPEqKWJxV7",
        "outputId": "7df37987-26d0-468a-fe8e-fc8887e7cfee"
      },
      "execution_count": null,
      "outputs": [
        {
          "output_type": "stream",
          "name": "stdout",
          "text": [
            "Enter anything to find the palindrome: 33222\n",
            "Not a palindrome.\n"
          ]
        }
      ]
    },
    {
      "cell_type": "code",
      "source": [
        "#fibonacci series.\n",
        "def fibonacci(n):\n",
        "  a,b = 0,1\n",
        "  for i in range(n):\n",
        "    print(a, end = \" \")\n",
        "    c = a + b\n",
        "    a = b\n",
        "    b = c\n",
        "fibonacci(10)"
      ],
      "metadata": {
        "colab": {
          "base_uri": "https://localhost:8080/"
        },
        "id": "NL2MAm7yKNFU",
        "outputId": "28dc6893-6ba4-44c7-e91a-0c2d25d1b3f6"
      },
      "execution_count": null,
      "outputs": [
        {
          "output_type": "stream",
          "name": "stdout",
          "text": [
            "0 1 1 2 3 5 8 13 21 34 "
          ]
        }
      ]
    },
    {
      "cell_type": "code",
      "source": [
        "#to find the second largest number in a string\n",
        "a = \"1,2,3,4,5,6\"\n",
        "a = list(a)\n",
        "a.sort(reverse = True)\n",
        "print(a[1])"
      ],
      "metadata": {
        "colab": {
          "base_uri": "https://localhost:8080/"
        },
        "id": "IBzFRvQ4Kc77",
        "outputId": "d7be14b0-2bfe-41fa-e627-7f03df8e0273"
      },
      "execution_count": null,
      "outputs": [
        {
          "output_type": "stream",
          "name": "stdout",
          "text": [
            "5\n"
          ]
        }
      ]
    },
    {
      "cell_type": "code",
      "source": [
        "def fact(n):\n",
        "  if n == 1:\n",
        "    return n\n",
        "  else:\n",
        "    return n * fact(n-1)\n",
        "fact(4)"
      ],
      "metadata": {
        "colab": {
          "base_uri": "https://localhost:8080/"
        },
        "id": "Zi4JcjGGOXRM",
        "outputId": "a78c5089-ba7c-4a53-8c63-0d6738d41783"
      },
      "execution_count": null,
      "outputs": [
        {
          "output_type": "execute_result",
          "data": {
            "text/plain": [
              "24"
            ]
          },
          "metadata": {},
          "execution_count": 51
        }
      ]
    },
    {
      "cell_type": "code",
      "source": [
        "#to check if the passed digit is single digit or double digit, so on and so forth.\n"
      ],
      "metadata": {
        "colab": {
          "base_uri": "https://localhost:8080/"
        },
        "id": "-YK9_LdPPiL1",
        "outputId": "d4d112d3-a839-45dc-b912-ca20a248b99c"
      },
      "execution_count": null,
      "outputs": [
        {
          "output_type": "execute_result",
          "data": {
            "text/plain": [
              "Counter({'b': 1, 'a': 3, 'n': 2})"
            ]
          },
          "metadata": {},
          "execution_count": 56
        }
      ]
    },
    {
      "cell_type": "code",
      "source": [
        "#sort a dictionary by their values\n",
        "a = {\"age\" : [12,42,13,56,43]}\n",
        "sorted_dict = {\"age\": sorted(a[\"age\"])}\n",
        "sorted_dict"
      ],
      "metadata": {
        "colab": {
          "base_uri": "https://localhost:8080/"
        },
        "id": "wkyA39B0QHXS",
        "outputId": "7051e34b-0835-405a-988e-dea02d647005"
      },
      "execution_count": null,
      "outputs": [
        {
          "output_type": "execute_result",
          "data": {
            "text/plain": [
              "{'age': [12, 13, 42, 43, 56]}"
            ]
          },
          "metadata": {},
          "execution_count": 8
        }
      ]
    },
    {
      "cell_type": "code",
      "source": [
        "b = {\"n\" : [3,2,4,2,4,24,3]}\n",
        "sorted_dict = {\"n\" : sorted(b[\"n\"])}\n",
        "sorted_dict"
      ],
      "metadata": {
        "colab": {
          "base_uri": "https://localhost:8080/"
        },
        "id": "mgcISogtRM0i",
        "outputId": "6e960ac4-cc4a-40ae-c4bc-8fc9398deaea"
      },
      "execution_count": null,
      "outputs": [
        {
          "output_type": "execute_result",
          "data": {
            "text/plain": [
              "{'n': [2, 2, 3, 3, 4, 4, 24]}"
            ]
          },
          "metadata": {},
          "execution_count": 15
        }
      ]
    },
    {
      "cell_type": "code",
      "source": [
        "#merge two sorted list without using list built in function.\n",
        "\n",
        "# a = [3,4,2,4]\n",
        "# b = [3,2,4,25,3]\n",
        "# a.sort()\n",
        "# b.sort()\n",
        "# print(a)\n",
        "# print(b)\n",
        "# c = a + b\n",
        "# print(c)\n",
        "# c.sort()\n",
        "# print(c)\n"
      ],
      "metadata": {
        "id": "mwBao_SmSx82",
        "outputId": "60793f10-c17c-41e2-86ea-4bb53259f0c7",
        "colab": {
          "base_uri": "https://localhost:8080/"
        }
      },
      "execution_count": null,
      "outputs": [
        {
          "output_type": "stream",
          "name": "stdout",
          "text": [
            "[2, 3, 4, 4]\n",
            "[2, 3, 3, 4, 25]\n",
            "[2, 3, 4, 4, 2, 3, 3, 4, 25]\n",
            "[2, 2, 3, 3, 3, 4, 4, 4, 25]\n"
          ]
        }
      ]
    },
    {
      "cell_type": "code",
      "source": [
        "#rotate a list by k position\n",
        "def rotate_list(lst, k):\n",
        "    k = k % len(lst)  # To handle k > len(lst)\n",
        "    return lst[-k:] + lst[:-k]\n",
        "\n",
        "lst = [1, 2, 3, 4, 5]\n",
        "k = 4\n",
        "print(rotate_list(lst, k))\n"
      ],
      "metadata": {
        "id": "qN7J6rlBfYaQ",
        "outputId": "0ae7c769-b1d0-44c0-a597-8a8205eab15e",
        "colab": {
          "base_uri": "https://localhost:8080/"
        }
      },
      "execution_count": null,
      "outputs": [
        {
          "output_type": "stream",
          "name": "stdout",
          "text": [
            "[2, 3, 4, 5, 1]\n"
          ]
        }
      ]
    },
    {
      "cell_type": "code",
      "source": [
        "#groups the words that are anagram together.\n",
        "\n",
        "from collections import defaultdict\n",
        "\n",
        "def group_anagrams(words):\n",
        "    groups = defaultdict(list)\n",
        "    for word in words:\n",
        "        key = ''.join(sorted(word))\n",
        "        groups[key].append(word)\n",
        "    return list(groups.values())\n",
        "words = [\"act\", \"cat\", \"bat\", \"tab\", \"tac\"]\n",
        "print(group_anagrams(words))\n",
        "\n",
        "\n",
        "\n",
        "\n",
        "\n",
        "# def group_anagrams(words):\n",
        "#     groups = {}\n",
        "#     for word in words:\n",
        "#         key = ''.join(sorted(word))\n",
        "#         if key not in groups:\n",
        "#             groups[key] = []\n",
        "#         groups[key].append(word)\n",
        "#     return list(groups.values())\n"
      ],
      "metadata": {
        "id": "MlLnxp1Agnt_",
        "outputId": "81ab26cf-559d-4861-d7e8-dd7781c89fb3",
        "colab": {
          "base_uri": "https://localhost:8080/"
        }
      },
      "execution_count": null,
      "outputs": [
        {
          "output_type": "stream",
          "name": "stdout",
          "text": [
            "[['act', 'cat', 'tac'], ['bat', 'tab']]\n"
          ]
        }
      ]
    },
    {
      "cell_type": "code",
      "source": [
        "#to count null in a dictionary.\n",
        "def count_nulls(d):\n",
        "    count = 0\n",
        "    for v in d.values():\n",
        "        if v is None:\n",
        "            count += 1\n",
        "    return count\n",
        "def count_nulls(d):\n",
        "    return list(d.values()).count(None)\n",
        "data = {'a': None, 'b': 2, 'c': None, 'd': 4}\n",
        "print(count_nulls(data))\n"
      ],
      "metadata": {
        "id": "VmopUpOwg7in",
        "outputId": "64e47891-6413-4cb6-f414-4a499ffaff4a",
        "colab": {
          "base_uri": "https://localhost:8080/"
        }
      },
      "execution_count": null,
      "outputs": [
        {
          "output_type": "stream",
          "name": "stdout",
          "text": [
            "2\n"
          ]
        }
      ]
    },
    {
      "cell_type": "code",
      "source": [
        "#fibonacci series using for loop and input method\n",
        "n = int(input(\"Enter how many terms: \"))\n",
        "a, b = 0, 1\n",
        "\n",
        "for _ in range(n):\n",
        "    print(a, end=' ')\n",
        "    a, b = b, a + b\n"
      ],
      "metadata": {
        "id": "qU9DcUGxhIoQ",
        "outputId": "885e919d-b1b8-4c35-a9af-501d55bc431f",
        "colab": {
          "base_uri": "https://localhost:8080/"
        }
      },
      "execution_count": null,
      "outputs": [
        {
          "output_type": "stream",
          "name": "stdout",
          "text": [
            "Enter how many terms: 10\n",
            "0 1 1 2 3 5 8 13 21 34 "
          ]
        }
      ]
    },
    {
      "cell_type": "code",
      "source": [
        "###"
      ],
      "metadata": {
        "id": "jtkYpImg1mJM"
      },
      "execution_count": null,
      "outputs": []
    },
    {
      "cell_type": "code",
      "source": [
        "#write a program to separate the following string into csv.\n",
        "\n",
        "a = \"ootd,yolo,asap\"\n",
        "#a = \"apple banana mango orange\"\n",
        "csv_data = \",\".join(a.split())\n",
        "print(csv_data)\n"
      ],
      "metadata": {
        "id": "OTW26XLO1qIa",
        "outputId": "3694ab84-f6e0-415c-8401-3a443a8c8689",
        "colab": {
          "base_uri": "https://localhost:8080/"
        }
      },
      "execution_count": null,
      "outputs": [
        {
          "output_type": "stream",
          "name": "stdout",
          "text": [
            "ootd,yolo,asap\n"
          ]
        }
      ]
    },
    {
      "cell_type": "code",
      "source": [
        "#write a program to sort a string alphabatecally\n",
        "text = input(\"Enter a string: \")\n",
        "sorted_text = ''.join(sorted(text))\n",
        "print(\"Sorted string:\", sorted_text)\n"
      ],
      "metadata": {
        "id": "HSsd3nFe19G4",
        "outputId": "3872eed6-84c3-41f2-b85e-c7a38917f4cc",
        "colab": {
          "base_uri": "https://localhost:8080/"
        }
      },
      "execution_count": null,
      "outputs": [
        {
          "output_type": "stream",
          "name": "stdout",
          "text": [
            "Enter a string: banana\n",
            "Sorted string: aaabnn\n"
          ]
        }
      ]
    },
    {
      "cell_type": "code",
      "source": [
        "#write a program to remove only given character of the string.\n",
        "z = \"F.R.I.E.N.D.S\"\n",
        "char_to_remove = \".\"  # character to remove\n",
        "\n",
        "new_z = z.replace(char_to_remove, \"\")\n",
        "print(\"String after removal:\", new_z)\n"
      ],
      "metadata": {
        "id": "W5qXy_pf2JNT",
        "outputId": "b9644d76-83e9-4bdf-924c-a8b989df75c7",
        "colab": {
          "base_uri": "https://localhost:8080/"
        }
      },
      "execution_count": null,
      "outputs": [
        {
          "output_type": "stream",
          "name": "stdout",
          "text": [
            "String after removal: FRIENDS\n"
          ]
        }
      ]
    },
    {
      "cell_type": "code",
      "source": [
        "#Write a program to remove dot from the given string.\n",
        "z = \"F.RIENDS\"\n",
        "char_to_remove = \".\"  # character to remove\n",
        "\n",
        "new_z = z.replace(char_to_remove, \"\")\n",
        "print(\"String after removal:\", new_z)\n"
      ],
      "metadata": {
        "id": "TjTFtHjd2sk4",
        "outputId": "0a79cbc6-820d-46ab-f5f8-5bd59543309a",
        "colab": {
          "base_uri": "https://localhost:8080/"
        }
      },
      "execution_count": null,
      "outputs": [
        {
          "output_type": "stream",
          "name": "stdout",
          "text": [
            "String after removal: FRIENDS\n"
          ]
        }
      ]
    },
    {
      "cell_type": "code",
      "source": [
        "#Write a program to find the number of vowels from a string.\n",
        "text = input(\"Enter a string: \")\n",
        "vowels = \"aeiouAEIOU\"\n",
        "count = 0\n",
        "\n",
        "for char in text:\n",
        "    if char in vowels:\n",
        "        count += 1\n",
        "\n",
        "print(\"Number of vowels:\", count)\n",
        "\n",
        "\n",
        "# from collections import Counter\n",
        "\n",
        "# text = input(\"Enter a string: \")\n",
        "# vowels = \"aeiouAEIOU\"\n",
        "\n",
        "# # Count all characters\n",
        "# counter = Counter(text)\n",
        "\n",
        "# # Sum the counts of vowels\n",
        "# vowel_count = sum(counter[v] for v in vowels)\n",
        "\n",
        "# print(\"Number of vowels:\", vowel_count)\n"
      ],
      "metadata": {
        "id": "zloFXoiX3H94",
        "outputId": "81ebeb4f-2a3d-444c-abc0-010c88562cda",
        "colab": {
          "base_uri": "https://localhost:8080/"
        }
      },
      "execution_count": null,
      "outputs": [
        {
          "output_type": "stream",
          "name": "stdout",
          "text": [
            "Enter a string: aaaaaaaaaat\n",
            "Number of vowels: 10\n"
          ]
        }
      ]
    },
    {
      "cell_type": "code",
      "source": [
        "#write a program to swap first and forth element\n",
        "a= [1,2,3,4,5]\n",
        "a[0],a[3] = a[3],a[0]\n",
        "print(a)"
      ],
      "metadata": {
        "id": "Ly5im_CP3aqd",
        "outputId": "2a623fd3-b601-4161-b78e-4cc2453dfd87",
        "colab": {
          "base_uri": "https://localhost:8080/"
        }
      },
      "execution_count": null,
      "outputs": [
        {
          "output_type": "stream",
          "name": "stdout",
          "text": [
            "[4, 2, 3, 1, 5]\n"
          ]
        }
      ]
    },
    {
      "cell_type": "code",
      "source": [
        "#add a new value at second position in a list\n",
        "lst = [10, 20, 30, 40]\n",
        "new_value = 15\n",
        "\n",
        "lst.insert(1, new_value)  # index 1 is the second position\n",
        "print(lst)\n"
      ],
      "metadata": {
        "id": "gP19q59k3y_W",
        "outputId": "af02580b-2294-45a5-93cc-005a57b9dd5b",
        "colab": {
          "base_uri": "https://localhost:8080/"
        }
      },
      "execution_count": null,
      "outputs": [
        {
          "output_type": "stream",
          "name": "stdout",
          "text": [
            "[10, 15, 20, 30, 40]\n"
          ]
        }
      ]
    },
    {
      "cell_type": "code",
      "source": [
        "#write a program to multiply all the numbers in a list\n",
        "a = [1,2,3,4]\n",
        "mul = 1\n",
        "for i in a:\n",
        "  mul *= i\n",
        "print(mul)\n"
      ],
      "metadata": {
        "id": "6RX7mOY_4Oq3",
        "outputId": "060680ae-ec33-428c-d329-b84f3ce83553",
        "colab": {
          "base_uri": "https://localhost:8080/"
        }
      },
      "execution_count": null,
      "outputs": [
        {
          "output_type": "stream",
          "name": "stdout",
          "text": [
            "24\n"
          ]
        }
      ]
    },
    {
      "cell_type": "code",
      "source": [
        "################### Tuple"
      ],
      "metadata": {
        "id": "x-3uKhO34Ffa"
      },
      "execution_count": null,
      "outputs": []
    },
    {
      "cell_type": "code",
      "source": [
        "#Convert the following dictionary into json format\n",
        "std_data = {\"Name\": \"David\", \"Age\": 13, \"Marks\": 68}\n",
        "\n",
        "#access the value age fromm the above data\n",
        "print(std_data[\"Age\"])\n",
        "\n",
        "#pretty print the following json format.\n",
        "\n",
        "#sort the following json keys and write them into a file.\n",
        "#write a python program to sort a dictionary by values\n",
        "#write a python program or script where numbers are between 1 and 10 arre keys and values will be their squares.\n",
        "#write a program to multiply all items in a dictionary.\n",
        "#sort a dictionary by key."
      ],
      "metadata": {
        "id": "l5BI_6124Kht",
        "outputId": "d0dc4a5b-4c04-4639-a641-a097e8078da4",
        "colab": {
          "base_uri": "https://localhost:8080/"
        }
      },
      "execution_count": null,
      "outputs": [
        {
          "output_type": "stream",
          "name": "stdout",
          "text": [
            "13\n"
          ]
        }
      ]
    },
    {
      "cell_type": "code",
      "source": [
        "#write a python program to sort a dictionary by values\n",
        "std_data = {\"salary\": 15000, \"Age\": 13, \"Marks\": 68}\n",
        "std_data = sorted(std_data.values())\n",
        "print(std_data)                                           #NOTE- Please make sure that all values should be in int or alphabet, otherwish code will give error because it is impossible to sort between number and alphabets\n",
        "\n",
        "std_id =  {\"name\": \"Abhilasha\", \"email\": \"guptaabhilasha\", \"surname\": \"Gupta\"}\n",
        "std_id = sorted(std_id.values())\n",
        "std_id\n"
      ],
      "metadata": {
        "id": "Iew7aPsi0Y9N",
        "outputId": "8552187e-08ec-4eb2-a2ff-d95816733415",
        "colab": {
          "base_uri": "https://localhost:8080/"
        }
      },
      "execution_count": null,
      "outputs": [
        {
          "output_type": "stream",
          "name": "stdout",
          "text": [
            "[13, 68, 15000]\n"
          ]
        },
        {
          "output_type": "execute_result",
          "data": {
            "text/plain": [
              "['Abhilasha', 'Gupta', 'guptaabhilasha']"
            ]
          },
          "metadata": {},
          "execution_count": 5
        }
      ]
    },
    {
      "cell_type": "code",
      "source": [
        "#write a python program or script where numbers are between 1 and 10 arre keys and values will be their squares.\n",
        "a = {}\n",
        "for i in range(1,11):\n",
        "  a[i] = i*i\n",
        "print(a)"
      ],
      "metadata": {
        "id": "IJWSRwJK39nq",
        "outputId": "245dff95-0038-4658-aebf-3c426dfdb2e2",
        "colab": {
          "base_uri": "https://localhost:8080/"
        }
      },
      "execution_count": null,
      "outputs": [
        {
          "output_type": "stream",
          "name": "stdout",
          "text": [
            "{1: 1, 2: 4, 3: 9, 4: 16, 5: 25, 6: 36, 7: 49, 8: 64, 9: 81, 10: 100}\n"
          ]
        }
      ]
    },
    {
      "cell_type": "code",
      "source": [
        "#write a program to multiply all items in a dictionary.\n",
        "dic = {\"a\": 1, \"b\": 2, \"c\": 3}\n",
        "mul = 1\n",
        "for i in dic:\n",
        "  mul = mul*dic[i]\n",
        "print(mul)"
      ],
      "metadata": {
        "id": "bN-a3RXD4dD4",
        "outputId": "ff28ad37-f886-4f2d-96b1-e51781969874",
        "colab": {
          "base_uri": "https://localhost:8080/"
        }
      },
      "execution_count": null,
      "outputs": [
        {
          "output_type": "stream",
          "name": "stdout",
          "text": [
            "6\n"
          ]
        }
      ]
    },
    {
      "cell_type": "code",
      "source": [
        "#sort a dictionary by key.\n",
        "a = {1: \"a\", 2: \"b\", 3: \"e\", 5: \"d\", 4: \"d\"}\n",
        "a = sorted(a.keys())\n",
        "print(a)"
      ],
      "metadata": {
        "id": "_VSQK3zl5BpF",
        "outputId": "0b595923-2ee3-4e8d-926a-2500249d8083",
        "colab": {
          "base_uri": "https://localhost:8080/"
        }
      },
      "execution_count": null,
      "outputs": [
        {
          "output_type": "stream",
          "name": "stdout",
          "text": [
            "[1, 2, 3, 4, 5]\n"
          ]
        }
      ]
    },
    {
      "cell_type": "code",
      "source": [
        "#################  Sets"
      ],
      "metadata": {
        "id": "LHTHSsy_5QwJ"
      },
      "execution_count": null,
      "outputs": []
    },
    {
      "cell_type": "code",
      "source": [
        "#write a program to find max and min from a set\n",
        "#write a program to find the common elements in three lists using sets\n",
        "#write a program to find difference between two sets\n",
        "#to remove an item from a set if it is present."
      ],
      "metadata": {
        "id": "h2ZApOIY4LLA"
      },
      "execution_count": null,
      "outputs": []
    },
    {
      "cell_type": "code",
      "source": [
        "#write a program to find max and min from a set\n",
        "a = {3,2,34,2,4,2,3}\n",
        "# max(a)\n",
        "\n",
        "# min(a)"
      ],
      "metadata": {
        "id": "Z4_iZVJ95eZG",
        "outputId": "a9620122-d781-42b4-f4c9-9d26f674910a",
        "colab": {
          "base_uri": "https://localhost:8080/"
        }
      },
      "execution_count": null,
      "outputs": [
        {
          "output_type": "execute_result",
          "data": {
            "text/plain": [
              "2"
            ]
          },
          "metadata": {},
          "execution_count": 15
        }
      ]
    },
    {
      "cell_type": "code",
      "source": [
        "#write a program to find the common elements in three lists using sets\n",
        "a = [1,2,3,4]\n",
        "b = [3,4,5]\n",
        "c = [3,4,2]\n",
        "a = set(a)\n",
        "b = set(b)\n",
        "c = set(c)\n",
        "\n",
        "# common = a.intersection(b,c)\n",
        "# print(common)\n",
        "\n",
        "#or\n",
        "\n",
        "common = print(set(a)&set(b)&set(c))\n",
        "common"
      ],
      "metadata": {
        "id": "BtsSlw0C57Ok",
        "outputId": "3b00f468-0d39-4b79-a67f-5831959913a0",
        "colab": {
          "base_uri": "https://localhost:8080/"
        }
      },
      "execution_count": null,
      "outputs": [
        {
          "output_type": "stream",
          "name": "stdout",
          "text": [
            "{3, 4}\n"
          ]
        }
      ]
    },
    {
      "cell_type": "code",
      "source": [
        "#write a program to find difference between two sets\n",
        "a = {1,2,3}\n",
        "b = {3,4,5,6}\n",
        "a.difference(b)\n",
        "a"
      ],
      "metadata": {
        "id": "wxufwDe9-eLN",
        "outputId": "6de366d8-53ff-42af-8176-ab0b8d7154b1",
        "colab": {
          "base_uri": "https://localhost:8080/"
        }
      },
      "execution_count": null,
      "outputs": [
        {
          "output_type": "execute_result",
          "data": {
            "text/plain": [
              "{1, 2, 3}"
            ]
          },
          "metadata": {},
          "execution_count": 42
        }
      ]
    },
    {
      "cell_type": "code",
      "source": [
        "#write a program to remove an item from a set if it is present in the set.\n",
        "s = {1,2,3,3,4,5}\n",
        "# s.remove(2)\n",
        "# s\n",
        "\n",
        "\n",
        "#we can also use discard method\n",
        "\n",
        "s.discard(3)\n",
        "print(s)"
      ],
      "metadata": {
        "id": "M1WMnSsw_cH0",
        "outputId": "cf83cb89-ffce-4120-ffb2-9770482e434b",
        "colab": {
          "base_uri": "https://localhost:8080/"
        }
      },
      "execution_count": null,
      "outputs": [
        {
          "output_type": "stream",
          "name": "stdout",
          "text": [
            "{1, 2, 4, 5}\n"
          ]
        }
      ]
    },
    {
      "cell_type": "code",
      "source": [
        "##############functions"
      ],
      "metadata": {
        "id": "XEHZB39u5piV"
      },
      "execution_count": null,
      "outputs": []
    },
    {
      "cell_type": "code",
      "source": [
        "#write a program to find the maximum of three numbers.\n",
        "#write a functionn to create and print a list where the values are square of the number between 1 and 10\n",
        "#write a function that takes number as a parameter and check if the number is prime or not.\n",
        "#write a functionn to sum all the numbers in a list\n",
        "#write a functionn to solve fibonacci series."
      ],
      "metadata": {
        "id": "kWZbRGoq4Lki"
      },
      "execution_count": null,
      "outputs": []
    },
    {
      "cell_type": "code",
      "source": [
        "#write a program or function to find the maximum of three numbers.\n",
        "def max_num(a,b,c):\n",
        "  if a > b and a > c:\n",
        "    print(a,\"is the maximum number.\")\n",
        "  elif b > a and b > c:\n",
        "    print(b,\"is the maximum number.\")\n",
        "  else:\n",
        "    print(c, \"is the maximum number.\")\n",
        "max_num(3,4,2)"
      ],
      "metadata": {
        "id": "rLpHj8144L9m",
        "outputId": "f543f7d3-d585-4f62-fca5-e4dc8ee38f61",
        "colab": {
          "base_uri": "https://localhost:8080/"
        }
      },
      "execution_count": null,
      "outputs": [
        {
          "output_type": "stream",
          "name": "stdout",
          "text": [
            "4 is the maximum number.\n"
          ]
        }
      ]
    },
    {
      "cell_type": "code",
      "source": [
        "#write a function to create and print a list where the values are square of the number between 1 and 10.\n",
        "def creat_list():\n",
        "    lis = []\n",
        "    for i in range(1, 11):\n",
        "        lis.append(i * i)\n",
        "    return lis\n",
        "\n",
        "print(creat_list())\n"
      ],
      "metadata": {
        "id": "vzAGF9kYAfx2",
        "outputId": "f067b2f4-597f-41a5-cb0d-e0f9f6ffd9c5",
        "colab": {
          "base_uri": "https://localhost:8080/"
        }
      },
      "execution_count": null,
      "outputs": [
        {
          "output_type": "stream",
          "name": "stdout",
          "text": [
            "[1, 4, 9, 16, 25, 36, 49, 64, 81, 100]\n"
          ]
        }
      ]
    },
    {
      "cell_type": "code",
      "source": [
        "#write a function that takes number as a parameter and check if the number is prime or not.\n",
        "\n",
        "# n = int(input(\"enter the number to check the prime or not: \"))\n",
        "# def check_prime(n):\n",
        "#   if n <= 1:\n",
        "#     print(\"not a prime number.\")\n",
        "#   else:\n",
        "#     for i in range(2,int(n**0.5) + 1):\n",
        "#       if n % i == 0:\n",
        "#         print(\"not a prime number.\")\n",
        "#         break\n",
        "#     else:\n",
        "#       print(\"prime number\")\n",
        "# check_prime(n)\n",
        "\n",
        "#or\n",
        "\n",
        "# def check_prime(num):\n",
        "#   if num == 1:\n",
        "#     print(\"Not a prime number\")\n",
        "#     if num == 2:\n",
        "#       print(\"prime number.\")               #here it is again not working please check why?\n",
        "#       if num > 2:\n",
        "#         for i in range(2,num):\n",
        "#           if i % num == 0:\n",
        "#            print(\"it is not a prime number.\")\n",
        "#           break\n",
        "#         else:\n",
        "#           print(\"prime number\")"
      ],
      "metadata": {
        "id": "K8Em3brKCW6u"
      },
      "execution_count": null,
      "outputs": []
    },
    {
      "cell_type": "code",
      "source": [
        "#write a function to sum all the numbers in a list\n",
        "def add(numbers):\n",
        "  total = 0\n",
        "  for i in numbers:\n",
        "    total += i\n",
        "  return total\n",
        "\n",
        "print(add([1,2,3]))"
      ],
      "metadata": {
        "id": "BXdVIvjrDomP",
        "outputId": "99df4a4a-0654-44ba-af21-cd90e8b1eb8b",
        "colab": {
          "base_uri": "https://localhost:8080/"
        }
      },
      "execution_count": null,
      "outputs": [
        {
          "output_type": "stream",
          "name": "stdout",
          "text": [
            "6\n"
          ]
        }
      ]
    },
    {
      "cell_type": "code",
      "source": [
        "#function for fibonacci series.\n",
        "def fs(num):\n",
        "  if num == 1:\n",
        "    return (0)\n",
        "  elif num == 2:\n",
        "    return (1)\n",
        "  else:\n",
        "    return(fs(num-1)+fs(num-2))\n",
        "print(fs(10))"
      ],
      "metadata": {
        "id": "2BYr2nTTGzNm",
        "outputId": "11423bf9-d99f-431f-d25c-59490a04ad81",
        "colab": {
          "base_uri": "https://localhost:8080/"
        }
      },
      "execution_count": null,
      "outputs": [
        {
          "output_type": "stream",
          "name": "stdout",
          "text": [
            "34\n"
          ]
        }
      ]
    },
    {
      "cell_type": "code",
      "source": [
        "                                                        #WS Cube Tech\n",
        "#To add two numbers\n",
        "num1 = 34\n",
        "num2 = 32\n",
        "sum = num1 + num2\n",
        "print(sum)"
      ],
      "metadata": {
        "id": "mhSKc7XDHbKk",
        "outputId": "cfa61c48-5e26-4c32-ee0c-83bc20d11f7e",
        "colab": {
          "base_uri": "https://localhost:8080/"
        }
      },
      "execution_count": null,
      "outputs": [
        {
          "output_type": "stream",
          "name": "stdout",
          "text": [
            "66\n"
          ]
        }
      ]
    },
    {
      "cell_type": "code",
      "source": [
        "#To find the square root of a number\n",
        "a = 36\n",
        "sqr_root = a**0.5\n",
        "print(sqr_root)\n",
        "\n",
        "import math\n",
        "num = int(input(\"Enter a number here: \"))\n",
        "sq_root = math.sqrt(num)\n",
        "print(sq_root)"
      ],
      "metadata": {
        "id": "N5g3gR4PMvbR",
        "outputId": "6c31b2e1-c6b5-40b3-88c1-3058b9d5d446",
        "colab": {
          "base_uri": "https://localhost:8080/"
        }
      },
      "execution_count": null,
      "outputs": [
        {
          "output_type": "stream",
          "name": "stdout",
          "text": [
            "6.0\n",
            "Enter a number here: 9\n",
            "3.0\n"
          ]
        }
      ]
    },
    {
      "cell_type": "code",
      "source": [
        "#Program to check the leap year\n",
        "leap = 2000\n",
        "\n",
        "if leap % 4 == 0 and leap % 100 != 0:\n",
        "  print(\"It is a leap year.\")\n",
        "elif leap % 100 == 0 and leap % 400 == 0:\n",
        "  print(\"Yes, It is a leap year.\")\n",
        "else:\n",
        "  print(\"Not a leap year\")"
      ],
      "metadata": {
        "id": "gLc9PxaANDmC",
        "outputId": "142e1b0d-a68e-45a4-caae-3c296ac6e6fd",
        "colab": {
          "base_uri": "https://localhost:8080/"
        }
      },
      "execution_count": null,
      "outputs": [
        {
          "output_type": "stream",
          "name": "stdout",
          "text": [
            "Yes, It is a leap year.\n"
          ]
        }
      ]
    },
    {
      "cell_type": "code",
      "source": [
        "#To find the largest amoung the three number.\n",
        "def largest(a,b,c):\n",
        "  if a > b and a > c:\n",
        "    print(a,\" is the largest number.\")\n",
        "  elif b > a and b > c:\n",
        "    print(b, \"is the largest number.\")\n",
        "  else:\n",
        "    print(c, \"is the largest number.\")\n",
        "largest(3,0,2)"
      ],
      "metadata": {
        "id": "Wa6LUh-DPozM",
        "outputId": "1d2a4537-7e13-4b7f-fb18-0a68aa520fba",
        "colab": {
          "base_uri": "https://localhost:8080/"
        }
      },
      "execution_count": null,
      "outputs": [
        {
          "output_type": "stream",
          "name": "stdout",
          "text": [
            "3  is the largest number.\n"
          ]
        }
      ]
    },
    {
      "cell_type": "code",
      "source": [
        "#To find the prime number.\n",
        "def check_prime(a):\n",
        "  if a <= 1:\n",
        "    print(\"It is not a prime number.\")\n",
        "  else:\n",
        "    for i in range(2,int(a**0.5)+1):\n",
        "      if a % i == 0:\n",
        "        print(\"It is not a prime number.\")\n",
        "        break\n",
        "    else:\n",
        "      print(\"Yes, It is a prime number\")\n",
        "check_prime(17)\n",
        "\n",
        "\n",
        "num = int(input('Enter a number here: '))\n",
        "if num == 1:\n",
        "  print(\"It is not a prime number.\")\n",
        "if num > 1:\n",
        "  for i in range(2,num):\n",
        "    if num % i == 0:\n",
        "      print(\"Not a prime number.\")\n",
        "      break\n",
        "  else:\n",
        "    print(\"It is a prime number.\")\n"
      ],
      "metadata": {
        "id": "c3Djmo-sQPae",
        "outputId": "15ed8792-82e1-4afa-fd27-36109cdb204e",
        "colab": {
          "base_uri": "https://localhost:8080/"
        }
      },
      "execution_count": null,
      "outputs": [
        {
          "output_type": "stream",
          "name": "stdout",
          "text": [
            "Yes, It is a prime number\n",
            "Enter a number here: 9\n",
            "Not a prime number.\n"
          ]
        }
      ]
    },
    {
      "cell_type": "code",
      "source": [
        "#To find all the prime number in an interval.\n",
        "low = 0\n",
        "upper = 50\n",
        "for num in range(low, upper + 1):\n",
        "  if num > 1:\n",
        "    for i in range(2,num):\n",
        "      if num % i == 0:\n",
        "        break\n",
        "    else:\n",
        "      print(num)"
      ],
      "metadata": {
        "id": "1o9ZyGOPXABw",
        "outputId": "fb745265-cdaf-416b-d8e4-0d1e82318a04",
        "colab": {
          "base_uri": "https://localhost:8080/"
        }
      },
      "execution_count": null,
      "outputs": [
        {
          "output_type": "stream",
          "name": "stdout",
          "text": [
            "2\n",
            "3\n",
            "5\n",
            "7\n",
            "11\n",
            "13\n",
            "17\n",
            "19\n",
            "23\n",
            "29\n",
            "31\n",
            "37\n",
            "41\n",
            "43\n",
            "47\n"
          ]
        }
      ]
    },
    {
      "cell_type": "code",
      "source": [
        "import numpy as np\n",
        "a = np.random.randint(1,3)\n",
        "print(a)"
      ],
      "metadata": {
        "id": "CRv45e9XRCoq",
        "outputId": "6f9f4f37-be9c-4990-b478-dbe5a1ff056d",
        "colab": {
          "base_uri": "https://localhost:8080/"
        }
      },
      "execution_count": null,
      "outputs": [
        {
          "output_type": "stream",
          "name": "stdout",
          "text": [
            "2\n"
          ]
        }
      ]
    },
    {
      "cell_type": "code",
      "source": [
        "#To find the factorial of a number.\n",
        "def fact(n):\n",
        "  if n == 0:\n",
        "    return 1\n",
        "  else:\n",
        "    return n * fact(n-1)\n",
        "fact(5)\n",
        "\n",
        "num = int(input(\"Enter a number here: \"))\n",
        "fact = 1\n",
        "if num < 0:\n",
        "  print(\"The factorial of 0 doesn't exist.\")\n",
        "if num == 0:\n",
        "  print(\"The factorial of 0 is 1\")\n",
        "if num > 0:\n",
        "  for i in range(1,num + 1):\n",
        "    fact = fact * i\n",
        "print(\"The factorial of the number is\", fact)"
      ],
      "metadata": {
        "id": "CLhmxg_4Rc9J",
        "outputId": "4a4e6447-c7f6-4fef-9a8d-a9120e410371",
        "colab": {
          "base_uri": "https://localhost:8080/"
        }
      },
      "execution_count": null,
      "outputs": [
        {
          "output_type": "stream",
          "name": "stdout",
          "text": [
            "Enter a number here: 7\n",
            "The factorial of the number is 5040\n"
          ]
        }
      ]
    },
    {
      "cell_type": "code",
      "source": [
        "#Tuple\n",
        "stu_data = {\"Name\" : \"Jatin\",\"Age\": 30, \"Salary\": 100000}\n",
        "stu_data[\"Age\"]"
      ],
      "metadata": {
        "id": "zrIwtlRBZTQM",
        "outputId": "4f29ba45-5ff4-4397-df7a-752d1535d52a",
        "colab": {
          "base_uri": "https://localhost:8080/"
        }
      },
      "execution_count": 2,
      "outputs": [
        {
          "output_type": "execute_result",
          "data": {
            "text/plain": [
              "30"
            ]
          },
          "metadata": {},
          "execution_count": 2
        }
      ]
    },
    {
      "cell_type": "code",
      "source": [
        "sorted_stu_data = sorted(stu_data.keys())\n",
        "print(sorted_stu_data)"
      ],
      "metadata": {
        "id": "Ej8GP8La8YcS",
        "outputId": "d6f26d84-2ead-4839-e59c-a3a397b2ac73",
        "colab": {
          "base_uri": "https://localhost:8080/"
        }
      },
      "execution_count": 5,
      "outputs": [
        {
          "output_type": "stream",
          "name": "stdout",
          "text": [
            "['Age', 'Name', 'Salary']\n"
          ]
        }
      ]
    },
    {
      "cell_type": "code",
      "source": [
        "emp_dict = {}\n",
        "for i in range(1,11):\n",
        "  emp_dict[i] = i * i\n",
        "print(emp_dict)"
      ],
      "metadata": {
        "id": "cqaOt0ph8sjE",
        "outputId": "2f83df11-d7c1-46de-cc45-5c10285c41e4",
        "colab": {
          "base_uri": "https://localhost:8080/"
        }
      },
      "execution_count": 9,
      "outputs": [
        {
          "output_type": "stream",
          "name": "stdout",
          "text": [
            "{1: 1, 2: 4, 3: 9, 4: 16, 5: 25, 6: 36, 7: 49, 8: 64, 9: 81, 10: 100}\n"
          ]
        }
      ]
    },
    {
      "cell_type": "code",
      "source": [
        "mul = 1\n",
        "a = {\"a\" : 2, \"b\" : 4, \"c\" : 1, \"d\" : 8}\n",
        "for i in a:\n",
        "  mul = mul * a[i]\n",
        "print(mul)"
      ],
      "metadata": {
        "id": "TgrI4Qe39I8E",
        "outputId": "6bded4a2-eb8b-4b1d-fbc5-ea53ec9b16e3",
        "colab": {
          "base_uri": "https://localhost:8080/"
        }
      },
      "execution_count": 11,
      "outputs": [
        {
          "output_type": "stream",
          "name": "stdout",
          "text": [
            "64\n"
          ]
        }
      ]
    },
    {
      "cell_type": "code",
      "source": [
        "em_dic = {}\n",
        "for i in range(1,11):\n",
        "  em_dic[i] = i * i\n",
        "print(em_dic)"
      ],
      "metadata": {
        "id": "V8woP9Aw-JMz",
        "outputId": "f525fb0f-3114-4bee-a53c-4a044f657a3f",
        "colab": {
          "base_uri": "https://localhost:8080/"
        }
      },
      "execution_count": 14,
      "outputs": [
        {
          "output_type": "stream",
          "name": "stdout",
          "text": [
            "{1: 1, 2: 4, 3: 9, 4: 16, 5: 25, 6: 36, 7: 49, 8: 64, 9: 81, 10: 100}\n"
          ]
        }
      ]
    },
    {
      "cell_type": "code",
      "source": [
        "dic = {}\n",
        "for i in range(1,11):\n",
        "  dic[i] = i * i\n",
        "print(dic)"
      ],
      "metadata": {
        "id": "U3igpXfL-rmx",
        "outputId": "545d84e0-acdd-4db0-ecf9-c65e13b0ff37",
        "colab": {
          "base_uri": "https://localhost:8080/"
        }
      },
      "execution_count": 15,
      "outputs": [
        {
          "output_type": "stream",
          "name": "stdout",
          "text": [
            "{1: 1, 2: 4, 3: 9, 4: 16, 5: 25, 6: 36, 7: 49, 8: 64, 9: 81, 10: 100}\n"
          ]
        }
      ]
    },
    {
      "cell_type": "code",
      "source": [
        "mul = 1\n",
        "a = {\"a\" : 2, \"b\" : 4, \"c\" : 1, \"d\" : 8}\n",
        "for i in a:\n",
        "  mul = mul * a[i]\n",
        "print(mul)"
      ],
      "metadata": {
        "id": "ilJBYU4A_cfz",
        "outputId": "b55bd0c5-2cff-4030-d052-a7f21d30dfa5",
        "colab": {
          "base_uri": "https://localhost:8080/"
        }
      },
      "execution_count": 16,
      "outputs": [
        {
          "output_type": "stream",
          "name": "stdout",
          "text": [
            "64\n"
          ]
        }
      ]
    },
    {
      "cell_type": "code",
      "source": [
        "a = {1,2,3,2,3,12,3,4,5,6,6,6,65,4,4,34,3,3,3,3,3,3,322,99,2,2}\n",
        "max(a)\n",
        "min(a)"
      ],
      "metadata": {
        "id": "_kSyEMuo_pcU",
        "outputId": "c5329f0b-c925-4c79-bd53-bac2ebc491a5",
        "colab": {
          "base_uri": "https://localhost:8080/"
        }
      },
      "execution_count": 19,
      "outputs": [
        {
          "output_type": "execute_result",
          "data": {
            "text/plain": [
              "1"
            ]
          },
          "metadata": {},
          "execution_count": 19
        }
      ]
    },
    {
      "cell_type": "code",
      "source": [
        "a = {1,2,3,4,5}\n",
        "b = {3,4,5,6,7}\n",
        "c = {5,6,7,8,9}\n",
        "d = a.intersection(b)\n",
        "e = d.intersection(c)\n",
        "print(e)"
      ],
      "metadata": {
        "id": "LSJ21bXJ_2cv",
        "outputId": "3edca93f-a1fa-43f1-9231-362eb39ce839",
        "colab": {
          "base_uri": "https://localhost:8080/"
        }
      },
      "execution_count": 21,
      "outputs": [
        {
          "output_type": "stream",
          "name": "stdout",
          "text": [
            "{5}\n"
          ]
        }
      ]
    },
    {
      "cell_type": "code",
      "source": [
        "se = {2,3,4,2,3,3,2,4,4,3}\n",
        "se"
      ],
      "metadata": {
        "id": "GM3zsBir_-CT",
        "outputId": "acf73d4d-e3f0-4e95-c24e-79c06aa705ba",
        "colab": {
          "base_uri": "https://localhost:8080/"
        }
      },
      "execution_count": 26,
      "outputs": [
        {
          "output_type": "execute_result",
          "data": {
            "text/plain": [
              "{2, 3, 4}"
            ]
          },
          "metadata": {},
          "execution_count": 26
        }
      ]
    },
    {
      "cell_type": "code",
      "source": [
        "def max_num(a,b,c):\n",
        "  if a > b and a > c:\n",
        "    print(a, \"is the highest number.\")\n",
        "  elif b > a and b > c:\n",
        "    print(b, \"is the highest number.\")\n",
        "  else:\n",
        "    print(c, \"is the highest\")\n",
        "max_num(3,2,5)"
      ],
      "metadata": {
        "id": "IJ-dKThz_-J-",
        "outputId": "3a9fd8f2-e841-47dc-dd63-d82e76cefacc",
        "colab": {
          "base_uri": "https://localhost:8080/"
        }
      },
      "execution_count": 27,
      "outputs": [
        {
          "output_type": "stream",
          "name": "stdout",
          "text": [
            "5 is the highest\n"
          ]
        }
      ]
    },
    {
      "cell_type": "code",
      "source": [
        "n = int(input(\"Enter the number to find the squares: \"))\n",
        "def sq(n):\n",
        "  for i in range(1,n):\n",
        "    print(i * i)\n",
        "sq(n)"
      ],
      "metadata": {
        "id": "YlrAdVIc_-Os",
        "outputId": "8a48d088-3733-40bd-c374-0e931ccfc13d",
        "colab": {
          "base_uri": "https://localhost:8080/"
        }
      },
      "execution_count": 30,
      "outputs": [
        {
          "output_type": "stream",
          "name": "stdout",
          "text": [
            "Enter the number to find the squares: 5\n",
            "1\n",
            "4\n",
            "9\n",
            "16\n"
          ]
        }
      ]
    },
    {
      "cell_type": "code",
      "source": [
        "def is_prime(n):\n",
        "  if n < 1:\n",
        "    print(\"It is not a prime number.\")\n",
        "  if n == 2:\n",
        "    print(\"It is not a prime number.\")\n",
        "  if n > 2:\n",
        "    for i in range(2,n):\n",
        "      if n % i == 0:\n",
        "        print(\"Not a prime number.\")\n",
        "        break\n",
        "    else:\n",
        "      print(\"It is a prime number.\")\n",
        "is_prime(5)\n",
        ""
      ],
      "metadata": {
        "id": "cAU69uX7AnGr",
        "outputId": "fa7aef60-db13-4b01-c952-b769f537feb9",
        "colab": {
          "base_uri": "https://localhost:8080/"
        }
      },
      "execution_count": 33,
      "outputs": [
        {
          "output_type": "stream",
          "name": "stdout",
          "text": [
            "It is a prime number.\n"
          ]
        }
      ]
    },
    {
      "cell_type": "code",
      "source": [
        "l = [1,2,3,4]\n",
        "def mul(l):\n",
        "  mu = 1\n",
        "  for i in l:\n",
        "    mu *= i\n",
        "  print(mu)\n",
        "mul(l)\n"
      ],
      "metadata": {
        "id": "9SeRHDI2Am4j",
        "outputId": "9d7f9895-d793-4725-a979-cc7e7fd318af",
        "colab": {
          "base_uri": "https://localhost:8080/"
        }
      },
      "execution_count": 48,
      "outputs": [
        {
          "output_type": "stream",
          "name": "stdout",
          "text": [
            "24\n"
          ]
        }
      ]
    },
    {
      "cell_type": "code",
      "source": [
        "def fibonacci(n):\n",
        "  a,b = 0,1\n",
        "  for i in range(n):\n",
        "    print(a, end = \" \")\n",
        "    c = a + b\n",
        "    a = b\n",
        "    b = c\n",
        "fibonacci(10)"
      ],
      "metadata": {
        "id": "V2lYfggyAmw4",
        "outputId": "ffe96a5e-2eb9-468b-af01-d2251457f36c",
        "colab": {
          "base_uri": "https://localhost:8080/"
        }
      },
      "execution_count": 50,
      "outputs": [
        {
          "output_type": "stream",
          "name": "stdout",
          "text": [
            "0 1 1 2 3 5 8 13 21 34 "
          ]
        }
      ]
    },
    {
      "cell_type": "code",
      "source": [
        "a = [1,2,3,4,5,6]\n",
        "from itertools import accumulate\n",
        "cum_sum = list(accumulate(a))\n",
        "print(cum_sum)"
      ],
      "metadata": {
        "id": "kZGpWylTAmpL",
        "outputId": "0e4a1586-d933-44d3-a9a9-392d78f55510",
        "colab": {
          "base_uri": "https://localhost:8080/"
        }
      },
      "execution_count": 53,
      "outputs": [
        {
          "output_type": "stream",
          "name": "stdout",
          "text": [
            "[1, 3, 6, 10, 15, 21]\n"
          ]
        }
      ]
    },
    {
      "cell_type": "code",
      "source": [
        "dup = [1,2,23,2,3,34,43,4,5,5,35]\n",
        "unique = list(dict.fromkeys(dup))\n",
        "print(unique)"
      ],
      "metadata": {
        "id": "M6DEUbMJAml3",
        "outputId": "e8008974-061a-4bea-df47-7031b52b4cc6",
        "colab": {
          "base_uri": "https://localhost:8080/"
        }
      },
      "execution_count": 54,
      "outputs": [
        {
          "output_type": "stream",
          "name": "stdout",
          "text": [
            "[1, 2, 23, 3, 34, 43, 4, 5, 35]\n"
          ]
        }
      ]
    },
    {
      "cell_type": "code",
      "source": [
        "a = {\"a\": 3, \"b\" : 9, \"c\" : 5}\n",
        "sort_dic = sorted(a.values())\n",
        "sort_dic"
      ],
      "metadata": {
        "id": "dyKTAEzNG0rp",
        "outputId": "a4eb1000-16d7-43f1-eacf-65de229ffbe9",
        "colab": {
          "base_uri": "https://localhost:8080/"
        }
      },
      "execution_count": 56,
      "outputs": [
        {
          "output_type": "execute_result",
          "data": {
            "text/plain": [
              "[3, 5, 9]"
            ]
          },
          "metadata": {},
          "execution_count": 56
        }
      ]
    },
    {
      "cell_type": "code",
      "source": [
        "a = \"ab.c.s.d.s.d\"\n",
        "a.replace(\".\", \",\")"
      ],
      "metadata": {
        "id": "aaenILnPHCj_",
        "outputId": "8a985f21-eedc-47e2-a48e-ba0cd0d4898f",
        "colab": {
          "base_uri": "https://localhost:8080/",
          "height": 35
        }
      },
      "execution_count": 59,
      "outputs": [
        {
          "output_type": "execute_result",
          "data": {
            "text/plain": [
              "'ab,c,s,d,s,d'"
            ],
            "application/vnd.google.colaboratory.intrinsic+json": {
              "type": "string"
            }
          },
          "metadata": {},
          "execution_count": 59
        }
      ]
    },
    {
      "cell_type": "code",
      "source": [
        "a = \"banana\"\n",
        "a = sorted(a)\n",
        "a"
      ],
      "metadata": {
        "id": "jhjRiygAHR9Z",
        "outputId": "83e5a188-30c5-41ed-8411-00a83fe7f366",
        "colab": {
          "base_uri": "https://localhost:8080/"
        }
      },
      "execution_count": 61,
      "outputs": [
        {
          "output_type": "execute_result",
          "data": {
            "text/plain": [
              "['a', 'a', 'a', 'b', 'n', 'n']"
            ]
          },
          "metadata": {},
          "execution_count": 61
        }
      ]
    },
    {
      "cell_type": "code",
      "source": [
        "a = \"aabcdd\"\n",
        "b = a.replace(\"a\",\"\")\n",
        "print(list(b))"
      ],
      "metadata": {
        "id": "Dcue3wzlHeAI",
        "outputId": "ce2ed09e-2be6-4781-c9d3-39ca3c96a31c",
        "colab": {
          "base_uri": "https://localhost:8080/"
        }
      },
      "execution_count": 70,
      "outputs": [
        {
          "output_type": "stream",
          "name": "stdout",
          "text": [
            "['b', 'c', 'd', 'd']\n"
          ]
        }
      ]
    },
    {
      "cell_type": "code",
      "source": [
        "b = [i for i in a if i != \"a\"]\n",
        "b"
      ],
      "metadata": {
        "id": "wAJSo7H0Hn7I",
        "outputId": "33e0b441-3e57-4763-ef00-ba50dab026f0",
        "colab": {
          "base_uri": "https://localhost:8080/"
        }
      },
      "execution_count": 72,
      "outputs": [
        {
          "output_type": "execute_result",
          "data": {
            "text/plain": [
              "['b', 'c', 'd', 'd']"
            ]
          },
          "metadata": {},
          "execution_count": 72
        }
      ]
    },
    {
      "cell_type": "code",
      "source": [
        "vow = \"aans\"\n",
        "total = 0\n",
        "for i in vow:\n",
        "  if i in \"aeiouAEIOU\":\n",
        "    total += 1\n",
        "print(total)\n"
      ],
      "metadata": {
        "id": "XmSR8pe0IjwL",
        "outputId": "4e558c4d-67ab-4cee-fcfb-fa62f387214d",
        "colab": {
          "base_uri": "https://localhost:8080/"
        }
      },
      "execution_count": 74,
      "outputs": [
        {
          "output_type": "stream",
          "name": "stdout",
          "text": [
            "2\n"
          ]
        }
      ]
    },
    {
      "cell_type": "code",
      "source": [
        "dic = {}\n",
        "for i in range(1,11):\n",
        "  dic[i] = i * i\n",
        "print(dic)"
      ],
      "metadata": {
        "id": "tRkDIw2HI68R",
        "outputId": "ae68741b-1360-467e-e65a-b77e4e19d175",
        "colab": {
          "base_uri": "https://localhost:8080/"
        }
      },
      "execution_count": 77,
      "outputs": [
        {
          "output_type": "stream",
          "name": "stdout",
          "text": [
            "{1: 1, 2: 4, 3: 9, 4: 16, 5: 25, 6: 36, 7: 49, 8: 64, 9: 81, 10: 100}\n"
          ]
        }
      ]
    },
    {
      "cell_type": "code",
      "source": [
        "a = {\"a\": 3, \"b\" : 9, \"c\" : 5}\n",
        "mul = 1\n",
        "for i in a:\n",
        "  mul *= a[i]\n",
        "print(mul)"
      ],
      "metadata": {
        "id": "Slj5P1EOJTRZ",
        "outputId": "e66b68f4-41b8-4c3a-d4cc-c5056856f4d3",
        "colab": {
          "base_uri": "https://localhost:8080/"
        }
      },
      "execution_count": 83,
      "outputs": [
        {
          "output_type": "stream",
          "name": "stdout",
          "text": [
            "135\n"
          ]
        }
      ]
    },
    {
      "cell_type": "code",
      "source": [
        "a = {\"a\": 3, \"b\" : 9, \"c\" : 5}\n",
        "mul = 1\n",
        "for i in a:\n",
        "  mul *= a[i]\n",
        "print(mul)"
      ],
      "metadata": {
        "id": "zyH4jd_4Jvck",
        "outputId": "32161f4a-b035-41d4-df95-31f10ae56e94",
        "colab": {
          "base_uri": "https://localhost:8080/"
        }
      },
      "execution_count": 85,
      "outputs": [
        {
          "output_type": "stream",
          "name": "stdout",
          "text": [
            "135\n"
          ]
        }
      ]
    },
    {
      "cell_type": "code",
      "source": [
        "se = {3,2,3,2,3}\n",
        "se.remove(3)\n",
        "se"
      ],
      "metadata": {
        "id": "uK9QNHUnKaDb",
        "outputId": "3b6c776f-b14a-4fd1-aa8d-ea212967df67",
        "colab": {
          "base_uri": "https://localhost:8080/"
        }
      },
      "execution_count": 86,
      "outputs": [
        {
          "output_type": "execute_result",
          "data": {
            "text/plain": [
              "{2}"
            ]
          },
          "metadata": {},
          "execution_count": 86
        }
      ]
    },
    {
      "cell_type": "code",
      "source": [
        "def create_lis():\n",
        "  lis = []\n",
        "  for i in range(1,11):\n",
        "    lis.append(i*i)\n",
        "  return lis\n",
        "create_lis()"
      ],
      "metadata": {
        "id": "YDs1T0Z0KoU3",
        "outputId": "2ac697c6-9582-4029-99bc-18504f3752b0",
        "colab": {
          "base_uri": "https://localhost:8080/"
        }
      },
      "execution_count": 89,
      "outputs": [
        {
          "output_type": "execute_result",
          "data": {
            "text/plain": [
              "[1, 4, 9, 16, 25, 36, 49, 64, 81, 100]"
            ]
          },
          "metadata": {},
          "execution_count": 89
        }
      ]
    },
    {
      "cell_type": "code",
      "source": [
        "a = [12,23,23]\n",
        "sum = 0\n",
        "for i in a:\n",
        "  sum += i\n",
        "print(sum)\n",
        ""
      ],
      "metadata": {
        "id": "lHEFbthbLNlZ",
        "outputId": "1aeb86a5-8972-47d2-ffb0-947e6ad3810b",
        "colab": {
          "base_uri": "https://localhost:8080/"
        }
      },
      "execution_count": 91,
      "outputs": [
        {
          "output_type": "stream",
          "name": "stdout",
          "text": [
            "58\n"
          ]
        }
      ]
    },
    {
      "cell_type": "code",
      "source": [
        "a = 36\n",
        "a = a ** 0.5\n",
        "print(a)"
      ],
      "metadata": {
        "id": "feBjvPhkMlcA",
        "outputId": "555f8857-81fe-4719-e63c-d844a3205631",
        "colab": {
          "base_uri": "https://localhost:8080/"
        }
      },
      "execution_count": 96,
      "outputs": [
        {
          "output_type": "stream",
          "name": "stdout",
          "text": [
            "6.0\n"
          ]
        }
      ]
    },
    {
      "cell_type": "code",
      "source": [
        "leap = 2000\n",
        "if leap % 4 == 0 and leap % 100 != 0:\n",
        "  print(\"It is a leap year.\")\n",
        "elif leap % 100 == 0 and leap % 400 == 0:\n",
        "  print(\"leap year\")\n",
        "else:\n",
        "  print(\"Not a leap year\")"
      ],
      "metadata": {
        "id": "IZdvpARvMtSc",
        "outputId": "25267317-b33e-4118-c5a9-fbe17be0e47d",
        "colab": {
          "base_uri": "https://localhost:8080/"
        }
      },
      "execution_count": 97,
      "outputs": [
        {
          "output_type": "stream",
          "name": "stdout",
          "text": [
            "leap year\n"
          ]
        }
      ]
    },
    {
      "cell_type": "code",
      "source": [
        "low = 0\n",
        "high = 50\n",
        "for num in range(low, high+1):\n",
        "  if num > 1:\n",
        "    for i in range(2,num):\n",
        "      if num % i == 0:\n",
        "        break\n",
        "    else:\n",
        "      print(num, end = \" \")"
      ],
      "metadata": {
        "id": "do_PZHc0Nw_b",
        "outputId": "e4b154c6-fd6f-4ac0-f4f6-b93a4d7b1d7b",
        "colab": {
          "base_uri": "https://localhost:8080/"
        }
      },
      "execution_count": 99,
      "outputs": [
        {
          "output_type": "stream",
          "name": "stdout",
          "text": [
            "2 3 5 7 11 13 17 19 23 29 31 37 41 43 47 "
          ]
        }
      ]
    },
    {
      "cell_type": "code",
      "source": [],
      "metadata": {
        "id": "Z_WCQtZSPHMG"
      },
      "execution_count": null,
      "outputs": []
    }
  ]
}