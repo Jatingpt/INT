{
  "nbformat": 4,
  "nbformat_minor": 0,
  "metadata": {
    "colab": {
      "provenance": [],
      "authorship_tag": "ABX9TyMTzbOERgJfS8LOibXcSq+n",
      "include_colab_link": true
    },
    "kernelspec": {
      "name": "python3",
      "display_name": "Python 3"
    },
    "language_info": {
      "name": "python"
    }
  },
  "cells": [
    {
      "cell_type": "markdown",
      "metadata": {
        "id": "view-in-github",
        "colab_type": "text"
      },
      "source": [
        "<a href=\"https://colab.research.google.com/github/Jatingpt/INT/blob/main/int.ipynb\" target=\"_parent\"><img src=\"https://colab.research.google.com/assets/colab-badge.svg\" alt=\"Open In Colab\"/></a>"
      ]
    },
    {
      "cell_type": "code",
      "execution_count": null,
      "metadata": {
        "colab": {
          "base_uri": "https://localhost:8080/"
        },
        "id": "wo3iJ4Wh4SIO",
        "outputId": "d3eb2deb-c602-4330-ebf3-9e93cc3c4e34"
      },
      "outputs": [
        {
          "output_type": "stream",
          "name": "stdout",
          "text": [
            "1 1\n",
            "2 4\n",
            "3 9\n",
            "4 16\n",
            "5 25\n",
            "6 36\n",
            "7 49\n",
            "8 64\n",
            "9 81\n",
            "10 100\n"
          ]
        }
      ],
      "source": [
        "#Square of first 10 numbers\n",
        "for i in range(1,11):\n",
        "  print(i, i*i)"
      ]
    },
    {
      "cell_type": "code",
      "source": [
        "#To find first 10 non-repeating character.\n",
        "def first_non_repeating(s):\n",
        "  from collections import Counter\n",
        "  char_count = Counter(s)\n",
        "  for char in s:\n",
        "    if char_count[char] == 1:\n",
        "      return char\n",
        "  return None\n",
        "\n",
        "s = \"aabbclcddeffg\"\n",
        "result = first_non_repeating(s)\n",
        "result"
      ],
      "metadata": {
        "colab": {
          "base_uri": "https://localhost:8080/",
          "height": 36
        },
        "id": "cuAnDx2h4ej3",
        "outputId": "ad1e88f1-17b5-4aa2-f802-54d4b594cf9f"
      },
      "execution_count": null,
      "outputs": [
        {
          "output_type": "execute_result",
          "data": {
            "text/plain": [
              "'l'"
            ],
            "application/vnd.google.colaboratory.intrinsic+json": {
              "type": "string"
            }
          },
          "metadata": {},
          "execution_count": 4
        }
      ]
    },
    {
      "cell_type": "code",
      "source": [
        "#find the largest and second largest number in a list.\n",
        "a = [11,23,21,34,5,55,33,22,677,222,348,383]\n",
        "a.sort(reverse = True)\n",
        "print(\"The largest number in this list is\", a[0])\n",
        "print(\"The second largest number in this list is\", a[1])"
      ],
      "metadata": {
        "colab": {
          "base_uri": "https://localhost:8080/"
        },
        "id": "bPE2He5r68pl",
        "outputId": "55f7e689-5d29-4da6-e09f-0f696bc91a93"
      },
      "execution_count": null,
      "outputs": [
        {
          "output_type": "stream",
          "name": "stdout",
          "text": [
            "The largest number in this list is 677\n",
            "The second largest number in this list is 383\n"
          ]
        }
      ]
    },
    {
      "cell_type": "code",
      "source": [
        "#reverse a string without using reverse and slice method.\n",
        "a = \"ris olleh\"\n",
        "rev_str = \"\"\n",
        "for i in a:\n",
        "  rev_str = i + rev_str\n",
        "print(rev_str)"
      ],
      "metadata": {
        "colab": {
          "base_uri": "https://localhost:8080/"
        },
        "id": "0TbLf_Q27LxG",
        "outputId": "b3e11642-ae0d-4988-97be-9be2fb265879"
      },
      "execution_count": 1,
      "outputs": [
        {
          "output_type": "stream",
          "name": "stdout",
          "text": [
            "hello sir\n"
          ]
        }
      ]
    },
    {
      "cell_type": "code",
      "source": [
        "#find the sum of first 20 number.\n",
        "sum = 0\n",
        "for i in range(2,41):\n",
        "  sum = sum+i\n",
        "print(sum)"
      ],
      "metadata": {
        "colab": {
          "base_uri": "https://localhost:8080/"
        },
        "id": "Ivha-Ofm81fd",
        "outputId": "6cd0264a-4bae-4398-ed58-25ddbce87a4c"
      },
      "execution_count": null,
      "outputs": [
        {
          "output_type": "stream",
          "name": "stdout",
          "text": [
            "819\n"
          ]
        }
      ]
    },
    {
      "cell_type": "code",
      "source": [
        "#remove duplicate values from a list.\n",
        "a = [1,2,3,1,2,1,3,1,2,13]\n",
        "a = set(a)\n",
        "print(list(a))"
      ],
      "metadata": {
        "colab": {
          "base_uri": "https://localhost:8080/"
        },
        "id": "m-Uqvstq9IkA",
        "outputId": "2867e1d2-0dc6-42f5-9c1a-b6c396354f5e"
      },
      "execution_count": null,
      "outputs": [
        {
          "output_type": "stream",
          "name": "stdout",
          "text": [
            "[1, 2, 3, 13]\n"
          ]
        }
      ]
    },
    {
      "cell_type": "code",
      "source": [
        "#to check whether the passed letter is a string or not.\n",
        "letter = input('Pass the letter to check the vowels: ')\n",
        "if letter in \"AEIOUaeiou\":\n",
        "  print(\"This is a vowel.\")\n",
        "else:\n",
        "  print(\"Not a vowel\")"
      ],
      "metadata": {
        "colab": {
          "base_uri": "https://localhost:8080/"
        },
        "id": "a-R8uJlz9Ulj",
        "outputId": "aaae6e43-de21-48d6-e64b-89b47e18eb77"
      },
      "execution_count": null,
      "outputs": [
        {
          "output_type": "stream",
          "name": "stdout",
          "text": [
            "Pass the letter to check the vowels: e\n",
            "This is a vowel.\n"
          ]
        }
      ]
    },
    {
      "cell_type": "code",
      "source": [
        "#three ways to format.\n",
        "name = \"Jatin\"\n",
        "salary = \"4300\"\n",
        "print(f\"My name is {name}, salary is {salary}\")\n",
        "print(\"My name is {}, salary is {}\".format(name, salary))\n",
        "print(\"My name is {0}, salary is {1}\".format(name,salary))"
      ],
      "metadata": {
        "colab": {
          "base_uri": "https://localhost:8080/"
        },
        "id": "GSEnlvTr9p1U",
        "outputId": "0ee96a09-df66-48ea-9f3e-1c930f94df7f"
      },
      "execution_count": null,
      "outputs": [
        {
          "output_type": "stream",
          "name": "stdout",
          "text": [
            "My name is Jatin, salary is 4300\n",
            "My name is Jatin, salary is 4300\n",
            "My name is Jatin, salary is 4300\n"
          ]
        }
      ]
    },
    {
      "cell_type": "code",
      "source": [
        "#for a given list rotate the list by one position\n",
        "lst = [10, 20, 30, 40]\n",
        "def rotate_right_by_one(lst):\n",
        "    if not lst:\n",
        "        return lst\n",
        "    return [lst[-1]] + lst[:-1]\n",
        "rotated = [lst[-1]] + lst[:-1] if lst else lst\n",
        "print(rotate_right_by_one(lst))\n"
      ],
      "metadata": {
        "colab": {
          "base_uri": "https://localhost:8080/"
        },
        "id": "Y95V0Dr093zG",
        "outputId": "f270573c-6713-4fd9-bc8d-c988f2ddda03"
      },
      "execution_count": 4,
      "outputs": [
        {
          "output_type": "stream",
          "name": "stdout",
          "text": [
            "[40, 10, 20, 30]\n"
          ]
        }
      ]
    },
    {
      "cell_type": "code",
      "source": [
        "#to check if two list have any common elements.\n",
        "a = [1,2,3,4,5]\n",
        "b = [4,5,6,7,8]\n",
        "a = set(a)\n",
        "b = set(b)\n",
        "print(list(a.intersection(b)))"
      ],
      "metadata": {
        "colab": {
          "base_uri": "https://localhost:8080/"
        },
        "id": "MqWUq28rDh0k",
        "outputId": "5aa63c9f-59ac-4cd1-bf01-343a79b06c90"
      },
      "execution_count": null,
      "outputs": [
        {
          "output_type": "stream",
          "name": "stdout",
          "text": [
            "[4, 5]\n"
          ]
        }
      ]
    },
    {
      "cell_type": "code",
      "source": [
        "#flatten a nested list\n",
        "a = [[1,2], [3,4], [5,6]]\n",
        "flatten_list = [i for i in a for i in i]\n",
        "flatten_list"
      ],
      "metadata": {
        "colab": {
          "base_uri": "https://localhost:8080/"
        },
        "id": "WIDqwxs9DzoY",
        "outputId": "87c4e182-a2a6-4c99-bef6-f9e5afee634a"
      },
      "execution_count": null,
      "outputs": [
        {
          "output_type": "execute_result",
          "data": {
            "text/plain": [
              "[1, 2, 3, 4, 5, 6]"
            ]
          },
          "metadata": {},
          "execution_count": 27
        }
      ]
    },
    {
      "cell_type": "code",
      "source": [
        "a[0]+a[1]+a[2]"
      ],
      "metadata": {
        "colab": {
          "base_uri": "https://localhost:8080/"
        },
        "id": "CCyzRRhGEDkS",
        "outputId": "3c65b4b1-b4e7-4b99-8360-cd4012589ca6"
      },
      "execution_count": null,
      "outputs": [
        {
          "output_type": "execute_result",
          "data": {
            "text/plain": [
              "[1, 2, 3, 4, 5, 6]"
            ]
          },
          "metadata": {},
          "execution_count": 28
        }
      ]
    },
    {
      "cell_type": "code",
      "source": [
        "#find the cumulative sum of elements in a list.\n",
        "from itertools import accumulate\n",
        "a = [1,2,3,4,5,6,7,8,9,10]\n",
        "cum_sum = list(accumulate(a))\n",
        "cum_sum"
      ],
      "metadata": {
        "colab": {
          "base_uri": "https://localhost:8080/"
        },
        "id": "uu2i4l_LEHyt",
        "outputId": "71dcf828-bc9c-4458-ce5a-725a553fe98e"
      },
      "execution_count": null,
      "outputs": [
        {
          "output_type": "execute_result",
          "data": {
            "text/plain": [
              "[1, 3, 6, 10, 15, 21, 28, 36, 45, 55]"
            ]
          },
          "metadata": {},
          "execution_count": 29
        }
      ]
    },
    {
      "cell_type": "code",
      "source": [
        "#swap two variable\n",
        "a = 45\n",
        "b = 32\n",
        "a,b = b,a\n",
        "print(a)\n",
        "print(b)"
      ],
      "metadata": {
        "colab": {
          "base_uri": "https://localhost:8080/"
        },
        "id": "kacuMdokGFdC",
        "outputId": "3849aa33-7120-458a-9781-84d6fb8490dc"
      },
      "execution_count": null,
      "outputs": [
        {
          "output_type": "stream",
          "name": "stdout",
          "text": [
            "32\n",
            "45\n"
          ]
        }
      ]
    },
    {
      "cell_type": "code",
      "source": [
        "#remove duplicates from a list while preserving the orders.\n",
        "a = [1,2,3,23,2,3,2,3,2,3,4443,2,442,2]\n",
        "unique = list(dict.fromkeys(a))\n",
        "print(unique)"
      ],
      "metadata": {
        "colab": {
          "base_uri": "https://localhost:8080/"
        },
        "id": "s0hnex6kGOaK",
        "outputId": "c04b6d8b-e05a-4374-8d35-2ebd11d8e953"
      },
      "execution_count": null,
      "outputs": [
        {
          "output_type": "stream",
          "name": "stdout",
          "text": [
            "[1, 2, 3, 23, 4443, 442]\n"
          ]
        }
      ]
    },
    {
      "cell_type": "code",
      "source": [
        "#calculate the frequency of each character in a string\n",
        "from collections import Counter\n",
        "a = \"banana\"\n",
        "freq = Counter(a)\n",
        "freq\n",
        "\n"
      ],
      "metadata": {
        "colab": {
          "base_uri": "https://localhost:8080/"
        },
        "id": "UUjFhp9hG32O",
        "outputId": "9cf43519-6a82-40f9-dc2a-3e57422c95c8"
      },
      "execution_count": null,
      "outputs": [
        {
          "output_type": "execute_result",
          "data": {
            "text/plain": [
              "Counter({'b': 1, 'a': 3, 'n': 2})"
            ]
          },
          "metadata": {},
          "execution_count": 32
        }
      ]
    },
    {
      "cell_type": "code",
      "source": [
        "#Check if two strings are anagram.\n",
        "def are_anagram(str1,str2):\n",
        "  return sorted(str1) == sorted(str2)\n",
        "\n",
        "print(are_anagram(\"listen\",\"silent\"))"
      ],
      "metadata": {
        "colab": {
          "base_uri": "https://localhost:8080/"
        },
        "id": "JC0bBMX_HfXS",
        "outputId": "dbf5018a-37ec-4dc6-e36c-c392fcb2ae5b"
      },
      "execution_count": 6,
      "outputs": [
        {
          "output_type": "stream",
          "name": "stdout",
          "text": [
            "True\n"
          ]
        }
      ]
    },
    {
      "cell_type": "code",
      "source": [
        "#check if a number is prime.\n",
        "def check_prime(n):\n",
        "  if n <= 1:\n",
        "    print(\"Not a prime number.\")\n",
        "  else:\n",
        "    for i in range(2, int(n**0.5) + 1):\n",
        "      if n % i == 0:\n",
        "        print(\"Not a prime number.\")\n",
        "        break\n",
        "    else:\n",
        "      print(\"A prime number.\")\n",
        "check_prime(7)"
      ],
      "metadata": {
        "colab": {
          "base_uri": "https://localhost:8080/"
        },
        "id": "Mip49YZKI5Fq",
        "outputId": "b7d0f10f-b7a7-4d8d-d11d-59f0eac43d02"
      },
      "execution_count": null,
      "outputs": [
        {
          "output_type": "stream",
          "name": "stdout",
          "text": [
            "A prime number.\n"
          ]
        }
      ]
    },
    {
      "cell_type": "code",
      "source": [
        "#check palindrome\n",
        "n = input(\"Enter anything to find the palindrome: \")\n",
        "if n == n[::-1]:\n",
        "  print(\"It is a palindrome.\")\n",
        "else:\n",
        "  print(\"Not a palindrome.\")"
      ],
      "metadata": {
        "colab": {
          "base_uri": "https://localhost:8080/"
        },
        "id": "mivPEqKWJxV7",
        "outputId": "7df37987-26d0-468a-fe8e-fc8887e7cfee"
      },
      "execution_count": null,
      "outputs": [
        {
          "output_type": "stream",
          "name": "stdout",
          "text": [
            "Enter anything to find the palindrome: 33222\n",
            "Not a palindrome.\n"
          ]
        }
      ]
    },
    {
      "cell_type": "code",
      "source": [
        "#fibonacci series.\n",
        "def fibonacci(n):\n",
        "  a,b = 0,1\n",
        "  for i in range(n):\n",
        "    print(a, end = \" \")\n",
        "    c = a + b\n",
        "    a = b\n",
        "    b = c\n",
        "fibonacci(10)"
      ],
      "metadata": {
        "colab": {
          "base_uri": "https://localhost:8080/"
        },
        "id": "NL2MAm7yKNFU",
        "outputId": "28dc6893-6ba4-44c7-e91a-0c2d25d1b3f6"
      },
      "execution_count": null,
      "outputs": [
        {
          "output_type": "stream",
          "name": "stdout",
          "text": [
            "0 1 1 2 3 5 8 13 21 34 "
          ]
        }
      ]
    },
    {
      "cell_type": "code",
      "source": [
        "#to find the second largest number in a string\n",
        "a = \"1,2,3,4,5,6\"\n",
        "a = list(a)\n",
        "a.sort(reverse = True)\n",
        "print(a[1])"
      ],
      "metadata": {
        "colab": {
          "base_uri": "https://localhost:8080/"
        },
        "id": "IBzFRvQ4Kc77",
        "outputId": "d7be14b0-2bfe-41fa-e627-7f03df8e0273"
      },
      "execution_count": null,
      "outputs": [
        {
          "output_type": "stream",
          "name": "stdout",
          "text": [
            "5\n"
          ]
        }
      ]
    },
    {
      "cell_type": "code",
      "source": [
        "def fact(n):\n",
        "  if n == 1:\n",
        "    return n\n",
        "  else:\n",
        "    return n * fact(n-1)\n",
        "fact(4)"
      ],
      "metadata": {
        "colab": {
          "base_uri": "https://localhost:8080/"
        },
        "id": "Zi4JcjGGOXRM",
        "outputId": "a78c5089-ba7c-4a53-8c63-0d6738d41783"
      },
      "execution_count": null,
      "outputs": [
        {
          "output_type": "execute_result",
          "data": {
            "text/plain": [
              "24"
            ]
          },
          "metadata": {},
          "execution_count": 51
        }
      ]
    },
    {
      "cell_type": "code",
      "source": [
        "#to check if the passed digit is single digit or double digit, so on and so forth.\n"
      ],
      "metadata": {
        "colab": {
          "base_uri": "https://localhost:8080/"
        },
        "id": "-YK9_LdPPiL1",
        "outputId": "d4d112d3-a839-45dc-b912-ca20a248b99c"
      },
      "execution_count": null,
      "outputs": [
        {
          "output_type": "execute_result",
          "data": {
            "text/plain": [
              "Counter({'b': 1, 'a': 3, 'n': 2})"
            ]
          },
          "metadata": {},
          "execution_count": 56
        }
      ]
    },
    {
      "cell_type": "code",
      "source": [
        "#sort a dictionary by their values\n",
        "a = {\"age\" : [12,42,13,56,43]}\n",
        "sorted_dict = {\"age\": sorted(a[\"age\"])}\n",
        "sorted_dict"
      ],
      "metadata": {
        "colab": {
          "base_uri": "https://localhost:8080/"
        },
        "id": "wkyA39B0QHXS",
        "outputId": "7051e34b-0835-405a-988e-dea02d647005"
      },
      "execution_count": 8,
      "outputs": [
        {
          "output_type": "execute_result",
          "data": {
            "text/plain": [
              "{'age': [12, 13, 42, 43, 56]}"
            ]
          },
          "metadata": {},
          "execution_count": 8
        }
      ]
    },
    {
      "cell_type": "code",
      "source": [
        "b = {\"n\" : [3,2,4,2,4,24,3]}\n",
        "sorted_dict = {\"n\" : sorted(b[\"n\"])}\n",
        "sorted_dict"
      ],
      "metadata": {
        "colab": {
          "base_uri": "https://localhost:8080/"
        },
        "id": "mgcISogtRM0i",
        "outputId": "6e960ac4-cc4a-40ae-c4bc-8fc9398deaea"
      },
      "execution_count": 15,
      "outputs": [
        {
          "output_type": "execute_result",
          "data": {
            "text/plain": [
              "{'n': [2, 2, 3, 3, 4, 4, 24]}"
            ]
          },
          "metadata": {},
          "execution_count": 15
        }
      ]
    },
    {
      "cell_type": "code",
      "source": [
        "#merge two sorted list without using list built in function.\n",
        "\n",
        "# a = [3,4,2,4]\n",
        "# b = [3,2,4,25,3]\n",
        "# a.sort()\n",
        "# b.sort()\n",
        "# print(a)\n",
        "# print(b)\n",
        "# c = a + b\n",
        "# print(c)\n",
        "# c.sort()\n",
        "# print(c)\n"
      ],
      "metadata": {
        "id": "mwBao_SmSx82",
        "outputId": "60793f10-c17c-41e2-86ea-4bb53259f0c7",
        "colab": {
          "base_uri": "https://localhost:8080/"
        }
      },
      "execution_count": null,
      "outputs": [
        {
          "output_type": "stream",
          "name": "stdout",
          "text": [
            "[2, 3, 4, 4]\n",
            "[2, 3, 3, 4, 25]\n",
            "[2, 3, 4, 4, 2, 3, 3, 4, 25]\n",
            "[2, 2, 3, 3, 3, 4, 4, 4, 25]\n"
          ]
        }
      ]
    },
    {
      "cell_type": "code",
      "source": [
        "#rotate a list by k position\n",
        "def rotate_list(lst, k):\n",
        "    k = k % len(lst)  # To handle k > len(lst)\n",
        "    return lst[-k:] + lst[:-k]\n",
        "\n",
        "lst = [1, 2, 3, 4, 5]\n",
        "k = 4\n",
        "print(rotate_list(lst, k))\n"
      ],
      "metadata": {
        "id": "qN7J6rlBfYaQ",
        "outputId": "0ae7c769-b1d0-44c0-a597-8a8205eab15e",
        "colab": {
          "base_uri": "https://localhost:8080/"
        }
      },
      "execution_count": null,
      "outputs": [
        {
          "output_type": "stream",
          "name": "stdout",
          "text": [
            "[2, 3, 4, 5, 1]\n"
          ]
        }
      ]
    },
    {
      "cell_type": "code",
      "source": [
        "#groups the words that are anagram together.\n",
        "\n",
        "from collections import defaultdict\n",
        "\n",
        "def group_anagrams(words):\n",
        "    groups = defaultdict(list)\n",
        "    for word in words:\n",
        "        key = ''.join(sorted(word))\n",
        "        groups[key].append(word)\n",
        "    return list(groups.values())\n",
        "words = [\"act\", \"cat\", \"bat\", \"tab\", \"tac\"]\n",
        "print(group_anagrams(words))\n",
        "\n",
        "\n",
        "\n",
        "\n",
        "\n",
        "# def group_anagrams(words):\n",
        "#     groups = {}\n",
        "#     for word in words:\n",
        "#         key = ''.join(sorted(word))\n",
        "#         if key not in groups:\n",
        "#             groups[key] = []\n",
        "#         groups[key].append(word)\n",
        "#     return list(groups.values())\n"
      ],
      "metadata": {
        "id": "MlLnxp1Agnt_",
        "outputId": "81ab26cf-559d-4861-d7e8-dd7781c89fb3",
        "colab": {
          "base_uri": "https://localhost:8080/"
        }
      },
      "execution_count": null,
      "outputs": [
        {
          "output_type": "stream",
          "name": "stdout",
          "text": [
            "[['act', 'cat', 'tac'], ['bat', 'tab']]\n"
          ]
        }
      ]
    },
    {
      "cell_type": "code",
      "source": [
        "#to count null in a dictionary.\n",
        "def count_nulls(d):\n",
        "    count = 0\n",
        "    for v in d.values():\n",
        "        if v is None:\n",
        "            count += 1\n",
        "    return count\n",
        "def count_nulls(d):\n",
        "    return list(d.values()).count(None)\n",
        "data = {'a': None, 'b': 2, 'c': None, 'd': 4}\n",
        "print(count_nulls(data))\n"
      ],
      "metadata": {
        "id": "VmopUpOwg7in",
        "outputId": "64e47891-6413-4cb6-f414-4a499ffaff4a",
        "colab": {
          "base_uri": "https://localhost:8080/"
        }
      },
      "execution_count": null,
      "outputs": [
        {
          "output_type": "stream",
          "name": "stdout",
          "text": [
            "2\n"
          ]
        }
      ]
    },
    {
      "cell_type": "code",
      "source": [
        "#fibonacci series using for loop and input method\n",
        "n = int(input(\"Enter how many terms: \"))\n",
        "a, b = 0, 1\n",
        "\n",
        "for _ in range(n):\n",
        "    print(a, end=' ')\n",
        "    a, b = b, a + b\n"
      ],
      "metadata": {
        "id": "qU9DcUGxhIoQ",
        "outputId": "0d25ce31-8363-416d-9808-0c6f5d112e76",
        "colab": {
          "base_uri": "https://localhost:8080/"
        }
      },
      "execution_count": null,
      "outputs": [
        {
          "output_type": "stream",
          "name": "stdout",
          "text": [
            "Enter how many terms: 5\n",
            "0 1 1 2 3 "
          ]
        }
      ]
    },
    {
      "cell_type": "code",
      "source": [
        "###"
      ],
      "metadata": {
        "id": "jtkYpImg1mJM"
      },
      "execution_count": null,
      "outputs": []
    },
    {
      "cell_type": "code",
      "source": [
        "#write a program to separate the following string into csv.\n",
        "\n",
        "a = \"ootd,yolo,asap\"\n",
        "#a = \"apple banana mango orange\"\n",
        "csv_data = \",\".join(a.split())\n",
        "print(csv_data)\n"
      ],
      "metadata": {
        "id": "OTW26XLO1qIa",
        "outputId": "3694ab84-f6e0-415c-8401-3a443a8c8689",
        "colab": {
          "base_uri": "https://localhost:8080/"
        }
      },
      "execution_count": null,
      "outputs": [
        {
          "output_type": "stream",
          "name": "stdout",
          "text": [
            "ootd,yolo,asap\n"
          ]
        }
      ]
    },
    {
      "cell_type": "code",
      "source": [
        "#write a program to sort a string alphabatecally\n",
        "text = input(\"Enter a string: \")\n",
        "sorted_text = ''.join(sorted(text))\n",
        "print(\"Sorted string:\", sorted_text)\n"
      ],
      "metadata": {
        "id": "HSsd3nFe19G4",
        "outputId": "3872eed6-84c3-41f2-b85e-c7a38917f4cc",
        "colab": {
          "base_uri": "https://localhost:8080/"
        }
      },
      "execution_count": null,
      "outputs": [
        {
          "output_type": "stream",
          "name": "stdout",
          "text": [
            "Enter a string: banana\n",
            "Sorted string: aaabnn\n"
          ]
        }
      ]
    },
    {
      "cell_type": "code",
      "source": [
        "#write a program to remove only given character of the string.\n",
        "z = \"F.R.I.E.N.D.S\"\n",
        "char_to_remove = \".\"  # character to remove\n",
        "\n",
        "new_z = z.replace(char_to_remove, \"\")\n",
        "print(\"String after removal:\", new_z)\n"
      ],
      "metadata": {
        "id": "W5qXy_pf2JNT",
        "outputId": "b9644d76-83e9-4bdf-924c-a8b989df75c7",
        "colab": {
          "base_uri": "https://localhost:8080/"
        }
      },
      "execution_count": null,
      "outputs": [
        {
          "output_type": "stream",
          "name": "stdout",
          "text": [
            "String after removal: FRIENDS\n"
          ]
        }
      ]
    },
    {
      "cell_type": "code",
      "source": [
        "#Write a program to remove dot from the given string.\n",
        "z = \"F.RIENDS\"\n",
        "char_to_remove = \".\"  # character to remove\n",
        "\n",
        "new_z = z.replace(char_to_remove, \"\")\n",
        "print(\"String after removal:\", new_z)\n"
      ],
      "metadata": {
        "id": "TjTFtHjd2sk4",
        "outputId": "0a79cbc6-820d-46ab-f5f8-5bd59543309a",
        "colab": {
          "base_uri": "https://localhost:8080/"
        }
      },
      "execution_count": null,
      "outputs": [
        {
          "output_type": "stream",
          "name": "stdout",
          "text": [
            "String after removal: FRIENDS\n"
          ]
        }
      ]
    },
    {
      "cell_type": "code",
      "source": [
        "#Write a program to find the number of vowels from a string.\n",
        "text = input(\"Enter a string: \")\n",
        "vowels = \"aeiouAEIOU\"\n",
        "count = 0\n",
        "\n",
        "for char in text:\n",
        "    if char in vowels:\n",
        "        count += 1\n",
        "\n",
        "print(\"Number of vowels:\", count)\n",
        "\n",
        "\n",
        "# from collections import Counter\n",
        "\n",
        "# text = input(\"Enter a string: \")\n",
        "# vowels = \"aeiouAEIOU\"\n",
        "\n",
        "# # Count all characters\n",
        "# counter = Counter(text)\n",
        "\n",
        "# # Sum the counts of vowels\n",
        "# vowel_count = sum(counter[v] for v in vowels)\n",
        "\n",
        "# print(\"Number of vowels:\", vowel_count)\n"
      ],
      "metadata": {
        "id": "zloFXoiX3H94",
        "outputId": "2d74e8a2-cefa-4f97-af0b-5883bf752661",
        "colab": {
          "base_uri": "https://localhost:8080/"
        }
      },
      "execution_count": null,
      "outputs": [
        {
          "output_type": "stream",
          "name": "stdout",
          "text": [
            "Enter a string: daljfasldjfawe\n",
            "Number of vowels: 4\n"
          ]
        }
      ]
    },
    {
      "cell_type": "code",
      "source": [
        "#write a program to swap first and forth element\n",
        "a= [1,2,3,4,5]\n",
        "a[0],a[3] = a[3],a[0]\n",
        "print(a)"
      ],
      "metadata": {
        "id": "Ly5im_CP3aqd",
        "outputId": "2a623fd3-b601-4161-b78e-4cc2453dfd87",
        "colab": {
          "base_uri": "https://localhost:8080/"
        }
      },
      "execution_count": null,
      "outputs": [
        {
          "output_type": "stream",
          "name": "stdout",
          "text": [
            "[4, 2, 3, 1, 5]\n"
          ]
        }
      ]
    },
    {
      "cell_type": "code",
      "source": [
        "#add a new value at second position in a list\n",
        "lst = [10, 20, 30, 40]\n",
        "new_value = 15\n",
        "\n",
        "lst.insert(1, new_value)  # index 1 is the second position\n",
        "print(lst)\n"
      ],
      "metadata": {
        "id": "gP19q59k3y_W",
        "outputId": "af02580b-2294-45a5-93cc-005a57b9dd5b",
        "colab": {
          "base_uri": "https://localhost:8080/"
        }
      },
      "execution_count": null,
      "outputs": [
        {
          "output_type": "stream",
          "name": "stdout",
          "text": [
            "[10, 15, 20, 30, 40]\n"
          ]
        }
      ]
    },
    {
      "cell_type": "code",
      "source": [
        "#write a program to multiply all the numbers in a list\n",
        "a = [1,2,3,4]\n",
        "mul = 1\n",
        "for i in a:\n",
        "  mul *= i\n",
        "print(mul)\n"
      ],
      "metadata": {
        "id": "6RX7mOY_4Oq3",
        "outputId": "060680ae-ec33-428c-d329-b84f3ce83553",
        "colab": {
          "base_uri": "https://localhost:8080/"
        }
      },
      "execution_count": null,
      "outputs": [
        {
          "output_type": "stream",
          "name": "stdout",
          "text": [
            "24\n"
          ]
        }
      ]
    },
    {
      "cell_type": "code",
      "source": [
        "################### Tuple"
      ],
      "metadata": {
        "id": "x-3uKhO34Ffa"
      },
      "execution_count": null,
      "outputs": []
    },
    {
      "cell_type": "code",
      "source": [
        "#Convert the following dictionary into json format\n",
        "std_data = {\"Name\": \"David\", \"Age\": 13, \"Marks\": 68}\n",
        "\n",
        "#access the value age fromm the above data\n",
        "print(std_data[\"Age\"])\n",
        "\n",
        "#pretty print the following json format.\n",
        "\n",
        "#sort the following json keys and write them into a file.\n",
        "#write a python program to sort a dictionary by values\n",
        "#write a python program or script where numbers are between 1 and 10 arre keys and values will be their squares.\n",
        "#write a program to multiply all items in a dictionary.\n",
        "#sort a dictionary by key."
      ],
      "metadata": {
        "id": "l5BI_6124Kht",
        "outputId": "d0dc4a5b-4c04-4639-a641-a097e8078da4",
        "colab": {
          "base_uri": "https://localhost:8080/"
        }
      },
      "execution_count": null,
      "outputs": [
        {
          "output_type": "stream",
          "name": "stdout",
          "text": [
            "13\n"
          ]
        }
      ]
    },
    {
      "cell_type": "code",
      "source": [
        "#write a python program to sort a dictionary by values\n",
        "std_data = {\"salary\": 15000, \"Age\": 13, \"Marks\": 68}\n",
        "std_data = sorted(std_data.values())\n",
        "print(std_data)                                           #NOTE- Please make sure that all values should be in int or alphabet, otherwish code will give error because it is impossible to sort between number and alphabets\n",
        "\n",
        "std_id =  {\"name\": \"Abhilasha\", \"email\": \"guptaabhilasha\", \"surname\": \"Gupta\"}\n",
        "std_id = sorted(std_id.values())\n",
        "std_id\n"
      ],
      "metadata": {
        "id": "Iew7aPsi0Y9N",
        "outputId": "8552187e-08ec-4eb2-a2ff-d95816733415",
        "colab": {
          "base_uri": "https://localhost:8080/"
        }
      },
      "execution_count": null,
      "outputs": [
        {
          "output_type": "stream",
          "name": "stdout",
          "text": [
            "[13, 68, 15000]\n"
          ]
        },
        {
          "output_type": "execute_result",
          "data": {
            "text/plain": [
              "['Abhilasha', 'Gupta', 'guptaabhilasha']"
            ]
          },
          "metadata": {},
          "execution_count": 5
        }
      ]
    },
    {
      "cell_type": "code",
      "source": [
        "#write a python program or script where numbers are between 1 and 10 arre keys and values will be their squares.\n",
        "a = {}\n",
        "for i in range(1,11):\n",
        "  a[i] = i*i\n",
        "print(a)"
      ],
      "metadata": {
        "id": "IJWSRwJK39nq",
        "outputId": "245dff95-0038-4658-aebf-3c426dfdb2e2",
        "colab": {
          "base_uri": "https://localhost:8080/"
        }
      },
      "execution_count": null,
      "outputs": [
        {
          "output_type": "stream",
          "name": "stdout",
          "text": [
            "{1: 1, 2: 4, 3: 9, 4: 16, 5: 25, 6: 36, 7: 49, 8: 64, 9: 81, 10: 100}\n"
          ]
        }
      ]
    },
    {
      "cell_type": "code",
      "source": [
        "#write a program to multiply all items in a dictionary.\n",
        "dic = {\"a\": 1, \"b\": 2, \"c\": 3}\n",
        "mul = 1\n",
        "for i in dic:\n",
        "  mul = mul*dic[i]\n",
        "print(mul)"
      ],
      "metadata": {
        "id": "bN-a3RXD4dD4",
        "outputId": "ff28ad37-f886-4f2d-96b1-e51781969874",
        "colab": {
          "base_uri": "https://localhost:8080/"
        }
      },
      "execution_count": null,
      "outputs": [
        {
          "output_type": "stream",
          "name": "stdout",
          "text": [
            "6\n"
          ]
        }
      ]
    },
    {
      "cell_type": "code",
      "source": [
        "#sort a dictionary by key.\n",
        "a = {1: \"a\", 2: \"b\", 3: \"e\", 5: \"d\", 4: \"d\"}\n",
        "a = sorted(a.keys())\n",
        "print(a)"
      ],
      "metadata": {
        "id": "_VSQK3zl5BpF",
        "outputId": "0b595923-2ee3-4e8d-926a-2500249d8083",
        "colab": {
          "base_uri": "https://localhost:8080/"
        }
      },
      "execution_count": null,
      "outputs": [
        {
          "output_type": "stream",
          "name": "stdout",
          "text": [
            "[1, 2, 3, 4, 5]\n"
          ]
        }
      ]
    },
    {
      "cell_type": "code",
      "source": [
        "#################  Sets"
      ],
      "metadata": {
        "id": "LHTHSsy_5QwJ"
      },
      "execution_count": null,
      "outputs": []
    },
    {
      "cell_type": "code",
      "source": [
        "#write a program to find max and min from a set\n",
        "#write a program to find the common elements in three lists using sets\n",
        "#write a program to find difference between two sets\n",
        "#to remove an item from a set if it is present."
      ],
      "metadata": {
        "id": "h2ZApOIY4LLA"
      },
      "execution_count": null,
      "outputs": []
    },
    {
      "cell_type": "code",
      "source": [
        "#write a program to find max and min from a set\n",
        "a = {3,2,34,2,4,2,3}\n",
        "# max(a)\n",
        "\n",
        "# min(a)"
      ],
      "metadata": {
        "id": "Z4_iZVJ95eZG",
        "outputId": "a9620122-d781-42b4-f4c9-9d26f674910a",
        "colab": {
          "base_uri": "https://localhost:8080/"
        }
      },
      "execution_count": null,
      "outputs": [
        {
          "output_type": "execute_result",
          "data": {
            "text/plain": [
              "2"
            ]
          },
          "metadata": {},
          "execution_count": 15
        }
      ]
    },
    {
      "cell_type": "code",
      "source": [
        "#write a program to find the common elements in three lists using sets\n",
        "a = [1,2,3,4]\n",
        "b = [3,4,5]\n",
        "c = [3,4,2]\n",
        "a = set(a)\n",
        "b = set(b)\n",
        "c = set(c)\n",
        "\n",
        "# common = a.intersection(b,c)\n",
        "# print(common)\n",
        "\n",
        "#or\n",
        "\n",
        "common = print(set(a)&set(b)&set(c))\n",
        "common"
      ],
      "metadata": {
        "id": "BtsSlw0C57Ok",
        "outputId": "3b00f468-0d39-4b79-a67f-5831959913a0",
        "colab": {
          "base_uri": "https://localhost:8080/"
        }
      },
      "execution_count": null,
      "outputs": [
        {
          "output_type": "stream",
          "name": "stdout",
          "text": [
            "{3, 4}\n"
          ]
        }
      ]
    },
    {
      "cell_type": "code",
      "source": [
        "#write a program to find difference between two sets\n",
        "a = {1,2,3}\n",
        "b = {3,4,5,6}\n",
        "a.difference(b)\n",
        "a"
      ],
      "metadata": {
        "id": "wxufwDe9-eLN",
        "outputId": "6de366d8-53ff-42af-8176-ab0b8d7154b1",
        "colab": {
          "base_uri": "https://localhost:8080/"
        }
      },
      "execution_count": null,
      "outputs": [
        {
          "output_type": "execute_result",
          "data": {
            "text/plain": [
              "{1, 2, 3}"
            ]
          },
          "metadata": {},
          "execution_count": 42
        }
      ]
    },
    {
      "cell_type": "code",
      "source": [
        "#write a program to remove an item from a set if it is present in the set.\n",
        "s = {1,2,3,3,4,5}\n",
        "# s.remove(2)\n",
        "# s\n",
        "\n",
        "\n",
        "#we can also use discard method\n",
        "\n",
        "s.discard(3)\n",
        "print(s)"
      ],
      "metadata": {
        "id": "M1WMnSsw_cH0",
        "outputId": "cf83cb89-ffce-4120-ffb2-9770482e434b",
        "colab": {
          "base_uri": "https://localhost:8080/"
        }
      },
      "execution_count": null,
      "outputs": [
        {
          "output_type": "stream",
          "name": "stdout",
          "text": [
            "{1, 2, 4, 5}\n"
          ]
        }
      ]
    },
    {
      "cell_type": "code",
      "source": [
        "##############functions"
      ],
      "metadata": {
        "id": "XEHZB39u5piV"
      },
      "execution_count": null,
      "outputs": []
    },
    {
      "cell_type": "code",
      "source": [
        "#write a program to find the maximum of three numbers.\n",
        "#write a functionn to ccreate and prind a list where the values are square of the number between 1 and 10\n",
        "#write a function that takes number as a parameter and check if the number is prime or not.\n",
        "#write a functionn to sum all the numbers in a list\n",
        "#write a functionn to solve fibonacci series."
      ],
      "metadata": {
        "id": "kWZbRGoq4Lki"
      },
      "execution_count": null,
      "outputs": []
    },
    {
      "cell_type": "code",
      "source": [
        "#write a program or function to find the maximum of three numbers.\n",
        "def max_num(a,b,c):\n",
        "  if a > b and a > c:\n",
        "    print(a,\"is the maximum number.\")\n",
        "  elif b > a and b > c:\n",
        "    print(b,\"is the maximum number.\")\n",
        "  else:\n",
        "    print(c, \"is the maximum number.\")\n",
        "max_num(3,4,2)"
      ],
      "metadata": {
        "id": "rLpHj8144L9m",
        "outputId": "f543f7d3-d585-4f62-fca5-e4dc8ee38f61",
        "colab": {
          "base_uri": "https://localhost:8080/"
        }
      },
      "execution_count": null,
      "outputs": [
        {
          "output_type": "stream",
          "name": "stdout",
          "text": [
            "4 is the maximum number.\n"
          ]
        }
      ]
    },
    {
      "cell_type": "code",
      "source": [
        "#write a function to create and print a list where the values are square of the number between 1 and 10.\n",
        "def creat_list():\n",
        "    lis = []\n",
        "    for i in range(1, 11):\n",
        "        lis.append(i * i)\n",
        "    return lis\n",
        "\n",
        "print(creat_list())\n"
      ],
      "metadata": {
        "id": "vzAGF9kYAfx2",
        "outputId": "f067b2f4-597f-41a5-cb0d-e0f9f6ffd9c5",
        "colab": {
          "base_uri": "https://localhost:8080/"
        }
      },
      "execution_count": null,
      "outputs": [
        {
          "output_type": "stream",
          "name": "stdout",
          "text": [
            "[1, 4, 9, 16, 25, 36, 49, 64, 81, 100]\n"
          ]
        }
      ]
    },
    {
      "cell_type": "code",
      "source": [
        "#write a function that takes number as a parameter and check if the number is prime or not.\n",
        "\n",
        "# n = int(input(\"enter the number to check the prime or not: \"))\n",
        "# def check_prime(n):\n",
        "#   if n <= 1:\n",
        "#     print(\"not a prime number.\")\n",
        "#   else:\n",
        "#     for i in range(2,int(n**0.5) + 1):\n",
        "#       if n % i == 0:\n",
        "#         print(\"not a prime number.\")\n",
        "#         break\n",
        "#     else:\n",
        "#       print(\"prime number\")\n",
        "# check_prime(n)\n",
        "\n",
        "#or\n",
        "\n",
        "# def check_prime(num):\n",
        "#   if num == 1:\n",
        "#     print(\"Not a prime number\")\n",
        "#     if num == 2:\n",
        "#       print(\"prime number.\")               #here it is again not working please check why?\n",
        "#       if num > 2:\n",
        "#         for i in range(2,num):\n",
        "#           if i % num == 0:\n",
        "#            print(\"it is not a prime number.\")\n",
        "#           break\n",
        "#         else:\n",
        "#           print(\"prime number\")"
      ],
      "metadata": {
        "id": "K8Em3brKCW6u"
      },
      "execution_count": null,
      "outputs": []
    },
    {
      "cell_type": "code",
      "source": [
        "#write a function to sum all the numbers in a list\n",
        "def add(numbers):\n",
        "  total = 0\n",
        "  for i in numbers:\n",
        "    total += i\n",
        "  return total\n",
        "\n",
        "print(add([1,2,3]))"
      ],
      "metadata": {
        "id": "BXdVIvjrDomP",
        "outputId": "99df4a4a-0654-44ba-af21-cd90e8b1eb8b",
        "colab": {
          "base_uri": "https://localhost:8080/"
        }
      },
      "execution_count": 16,
      "outputs": [
        {
          "output_type": "stream",
          "name": "stdout",
          "text": [
            "6\n"
          ]
        }
      ]
    },
    {
      "cell_type": "code",
      "source": [
        "#function for fibonacci series.\n",
        "def fs(num):\n",
        "  if num == 1:\n",
        "    return (0)\n",
        "  elif num == 2:\n",
        "    return (1)\n",
        "  else:\n",
        "    return(fs(num-1)+fs(num-2))\n",
        "print(fs(10))"
      ],
      "metadata": {
        "id": "2BYr2nTTGzNm",
        "outputId": "11423bf9-d99f-431f-d25c-59490a04ad81",
        "colab": {
          "base_uri": "https://localhost:8080/"
        }
      },
      "execution_count": 17,
      "outputs": [
        {
          "output_type": "stream",
          "name": "stdout",
          "text": [
            "34\n"
          ]
        }
      ]
    },
    {
      "cell_type": "code",
      "source": [
        "                                                        #WS Cube Tech\n",
        "#To add two numbers\n",
        "num1 = 34\n",
        "num2 = 32\n",
        "sum = num1 + num2\n",
        "print(sum)"
      ],
      "metadata": {
        "id": "mhSKc7XDHbKk",
        "outputId": "cfa61c48-5e26-4c32-ee0c-83bc20d11f7e",
        "colab": {
          "base_uri": "https://localhost:8080/"
        }
      },
      "execution_count": null,
      "outputs": [
        {
          "output_type": "stream",
          "name": "stdout",
          "text": [
            "66\n"
          ]
        }
      ]
    },
    {
      "cell_type": "code",
      "source": [
        "#To find the square root of a number\n",
        "a = 36\n",
        "sqr_root = a**0.5\n",
        "print(sqr_root)\n",
        "\n",
        "import math\n",
        "num = int(input(\"Enter a number here: \"))\n",
        "sq_root = math.sqrt(num)\n",
        "print(sq_root)"
      ],
      "metadata": {
        "id": "N5g3gR4PMvbR",
        "outputId": "b7750412-8ed3-4740-ac00-007843e9c316",
        "colab": {
          "base_uri": "https://localhost:8080/"
        }
      },
      "execution_count": null,
      "outputs": [
        {
          "output_type": "stream",
          "name": "stdout",
          "text": [
            "6.0\n",
            "Enter a number here: 64\n",
            "8.0\n"
          ]
        }
      ]
    },
    {
      "cell_type": "code",
      "source": [
        "#Program to check the leap year\n",
        "leap = 2000\n",
        "\n",
        "if leap % 4 == 0 and leap % 100 != 0:\n",
        "  print(\"It is a leap year.\")\n",
        "elif leap % 100 == 0 and leap % 400 == 0:\n",
        "  print(\"Yes, It is a leap year.\")\n",
        "else:\n",
        "  print(\"Not a leap year\")"
      ],
      "metadata": {
        "id": "gLc9PxaANDmC",
        "outputId": "142e1b0d-a68e-45a4-caae-3c296ac6e6fd",
        "colab": {
          "base_uri": "https://localhost:8080/"
        }
      },
      "execution_count": null,
      "outputs": [
        {
          "output_type": "stream",
          "name": "stdout",
          "text": [
            "Yes, It is a leap year.\n"
          ]
        }
      ]
    },
    {
      "cell_type": "code",
      "source": [
        "#To find the largest amoung the three number.\n",
        "def largest(a,b,c):\n",
        "  if a > b and a > c:\n",
        "    print(a,\" is the largest number.\")\n",
        "  elif b > a and b > c:\n",
        "    print(b, \"is the largest number.\")\n",
        "  else:\n",
        "    print(c, \"is the largest number.\")\n",
        "largest(3,0,2)"
      ],
      "metadata": {
        "id": "Wa6LUh-DPozM",
        "outputId": "1d2a4537-7e13-4b7f-fb18-0a68aa520fba",
        "colab": {
          "base_uri": "https://localhost:8080/"
        }
      },
      "execution_count": null,
      "outputs": [
        {
          "output_type": "stream",
          "name": "stdout",
          "text": [
            "3  is the largest number.\n"
          ]
        }
      ]
    },
    {
      "cell_type": "code",
      "source": [
        "#To find the prime number.\n",
        "def check_prime(a):\n",
        "  if a <= 1:\n",
        "    print(\"It is not a prime number.\")\n",
        "  else:\n",
        "    for i in range(2,int(a**0.5)+1):\n",
        "      if a % i == 0:\n",
        "        print(\"It is not a prime number.\")\n",
        "        break\n",
        "    else:\n",
        "      print(\"Yes, It is a prime number\")\n",
        "check_prime(17)\n",
        "\n",
        "\n",
        "num = int(input('Enter a number here: '))\n",
        "if num == 1:\n",
        "  print(\"It is not a prime number.\")\n",
        "if num > 1:\n",
        "  for i in range(2,num):\n",
        "    if num % i == 0:\n",
        "      print(\"Not a prime number.\")\n",
        "      break\n",
        "  else:\n",
        "    print(\"It is a prime number.\")\n"
      ],
      "metadata": {
        "id": "c3Djmo-sQPae",
        "outputId": "15ed8792-82e1-4afa-fd27-36109cdb204e",
        "colab": {
          "base_uri": "https://localhost:8080/"
        }
      },
      "execution_count": null,
      "outputs": [
        {
          "output_type": "stream",
          "name": "stdout",
          "text": [
            "Yes, It is a prime number\n",
            "Enter a number here: 9\n",
            "Not a prime number.\n"
          ]
        }
      ]
    },
    {
      "cell_type": "code",
      "source": [
        "#To find all the prime number in an interval.\n",
        "low = 0\n",
        "upper = 50\n",
        "for num in range(low, upper + 1):\n",
        "  if num > 1:\n",
        "    for i in range(2,num):\n",
        "      if num % i == 0:\n",
        "        break\n",
        "    else:\n",
        "      print(num)"
      ],
      "metadata": {
        "id": "1o9ZyGOPXABw",
        "outputId": "fb745265-cdaf-416b-d8e4-0d1e82318a04",
        "colab": {
          "base_uri": "https://localhost:8080/"
        }
      },
      "execution_count": null,
      "outputs": [
        {
          "output_type": "stream",
          "name": "stdout",
          "text": [
            "2\n",
            "3\n",
            "5\n",
            "7\n",
            "11\n",
            "13\n",
            "17\n",
            "19\n",
            "23\n",
            "29\n",
            "31\n",
            "37\n",
            "41\n",
            "43\n",
            "47\n"
          ]
        }
      ]
    },
    {
      "cell_type": "code",
      "source": [
        "import numpy as np\n",
        "a = np.random.randint(1,3)\n",
        "print(a)"
      ],
      "metadata": {
        "id": "CRv45e9XRCoq",
        "outputId": "6f9f4f37-be9c-4990-b478-dbe5a1ff056d",
        "colab": {
          "base_uri": "https://localhost:8080/"
        }
      },
      "execution_count": null,
      "outputs": [
        {
          "output_type": "stream",
          "name": "stdout",
          "text": [
            "2\n"
          ]
        }
      ]
    },
    {
      "cell_type": "code",
      "source": [
        "#To find the factorial of a number.\n",
        "def fact(n):\n",
        "  if n == 0:\n",
        "    return 1\n",
        "  else:\n",
        "    return n * fact(n-1)\n",
        "fact(5)\n",
        "\n",
        "num = int(input(\"Enter a number here: \"))\n",
        "fact = 1\n",
        "if num < 0:\n",
        "  print(\"The factorial of 0 doesn't exist.\")\n",
        "if num == 0:\n",
        "  print(\"The factorial of 0 is 1\")\n",
        "if num > 0:\n",
        "  for i in range(1,num + 1):\n",
        "    fact = fact * i\n",
        "print(\"The factorial of the number is\", fact)"
      ],
      "metadata": {
        "id": "CLhmxg_4Rc9J",
        "outputId": "4a4e6447-c7f6-4fef-9a8d-a9120e410371",
        "colab": {
          "base_uri": "https://localhost:8080/"
        }
      },
      "execution_count": null,
      "outputs": [
        {
          "output_type": "stream",
          "name": "stdout",
          "text": [
            "Enter a number here: 7\n",
            "The factorial of the number is 5040\n"
          ]
        }
      ]
    },
    {
      "cell_type": "code",
      "source": [],
      "metadata": {
        "id": "zrIwtlRBZTQM"
      },
      "execution_count": null,
      "outputs": []
    }
  ]
}