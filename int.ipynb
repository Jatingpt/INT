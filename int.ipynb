{
  "nbformat": 4,
  "nbformat_minor": 0,
  "metadata": {
    "colab": {
      "provenance": [],
      "authorship_tag": "ABX9TyMpeuLjXRQTeJS/UVoipZE6",
      "include_colab_link": true
    },
    "kernelspec": {
      "name": "python3",
      "display_name": "Python 3"
    },
    "language_info": {
      "name": "python"
    }
  },
  "cells": [
    {
      "cell_type": "markdown",
      "metadata": {
        "id": "view-in-github",
        "colab_type": "text"
      },
      "source": [
        "<a href=\"https://colab.research.google.com/github/Jatingpt/INT/blob/main/int.ipynb\" target=\"_parent\"><img src=\"https://colab.research.google.com/assets/colab-badge.svg\" alt=\"Open In Colab\"/></a>"
      ]
    },
    {
      "cell_type": "code",
      "execution_count": null,
      "metadata": {
        "colab": {
          "base_uri": "https://localhost:8080/"
        },
        "id": "wo3iJ4Wh4SIO",
        "outputId": "d3eb2deb-c602-4330-ebf3-9e93cc3c4e34"
      },
      "outputs": [
        {
          "output_type": "stream",
          "name": "stdout",
          "text": [
            "1 1\n",
            "2 4\n",
            "3 9\n",
            "4 16\n",
            "5 25\n",
            "6 36\n",
            "7 49\n",
            "8 64\n",
            "9 81\n",
            "10 100\n"
          ]
        }
      ],
      "source": [
        "#Square of first 10 numbers\n",
        "for i in range(1,11):\n",
        "  print(i, i*i)"
      ]
    },
    {
      "cell_type": "code",
      "source": [
        "#To find first 10 non-repeating character.\n",
        "def first_non_repeating(s):\n",
        "  from collections import Counter\n",
        "  char_count = Counter(s)\n",
        "  for char in s:\n",
        "    if char_count[char] == 1:\n",
        "      return char\n",
        "  return None\n",
        "\n",
        "s = \"aabbclcddeffg\"\n",
        "result = first_non_repeating(s)\n",
        "result"
      ],
      "metadata": {
        "colab": {
          "base_uri": "https://localhost:8080/",
          "height": 36
        },
        "id": "cuAnDx2h4ej3",
        "outputId": "ad1e88f1-17b5-4aa2-f802-54d4b594cf9f"
      },
      "execution_count": null,
      "outputs": [
        {
          "output_type": "execute_result",
          "data": {
            "text/plain": [
              "'l'"
            ],
            "application/vnd.google.colaboratory.intrinsic+json": {
              "type": "string"
            }
          },
          "metadata": {},
          "execution_count": 4
        }
      ]
    },
    {
      "cell_type": "code",
      "source": [
        "#find the largest and second largest number in a list.\n",
        "a = [11,23,21,34,5,55,33,22,677,222,348,383]\n",
        "a.sort(reverse = True)\n",
        "print(\"The largest number in this list is\", a[0])\n",
        "print(\"The second largest number in this list is\", a[1])"
      ],
      "metadata": {
        "colab": {
          "base_uri": "https://localhost:8080/"
        },
        "id": "bPE2He5r68pl",
        "outputId": "55f7e689-5d29-4da6-e09f-0f696bc91a93"
      },
      "execution_count": null,
      "outputs": [
        {
          "output_type": "stream",
          "name": "stdout",
          "text": [
            "The largest number in this list is 677\n",
            "The second largest number in this list is 383\n"
          ]
        }
      ]
    },
    {
      "cell_type": "code",
      "source": [
        "#reverse a string without using reverse and slice method.\n",
        "a = \"ris olleh\"\n",
        "rev_str = \"\"\n",
        "for i in a:\n",
        "  rev_str = i + rev_str\n",
        "print(rev_str)\n"
      ],
      "metadata": {
        "colab": {
          "base_uri": "https://localhost:8080/"
        },
        "id": "0TbLf_Q27LxG",
        "outputId": "f8e4a87c-7ea3-4b7a-e695-0e04180a43d1"
      },
      "execution_count": null,
      "outputs": [
        {
          "output_type": "stream",
          "name": "stdout",
          "text": [
            "hello sir\n"
          ]
        }
      ]
    },
    {
      "cell_type": "code",
      "source": [
        "#find the sum of first 20 number.\n",
        "sum = 0\n",
        "for i in range(2,41):\n",
        "  sum = sum+i\n",
        "print(sum)"
      ],
      "metadata": {
        "colab": {
          "base_uri": "https://localhost:8080/"
        },
        "id": "Ivha-Ofm81fd",
        "outputId": "6cd0264a-4bae-4398-ed58-25ddbce87a4c"
      },
      "execution_count": null,
      "outputs": [
        {
          "output_type": "stream",
          "name": "stdout",
          "text": [
            "819\n"
          ]
        }
      ]
    },
    {
      "cell_type": "code",
      "source": [
        "#remove duplicate values from a list.\n",
        "a = [1,2,3,1,2,1,3,1,2,13]\n",
        "a = set(a)\n",
        "print(list(a))"
      ],
      "metadata": {
        "colab": {
          "base_uri": "https://localhost:8080/"
        },
        "id": "m-Uqvstq9IkA",
        "outputId": "2867e1d2-0dc6-42f5-9c1a-b6c396354f5e"
      },
      "execution_count": null,
      "outputs": [
        {
          "output_type": "stream",
          "name": "stdout",
          "text": [
            "[1, 2, 3, 13]\n"
          ]
        }
      ]
    },
    {
      "cell_type": "code",
      "source": [
        "#to check whether the passed letter is a string or not.\n",
        "letter = input('Pass the letter to check the vowels: ')\n",
        "if letter in \"AEIOUaeiou\":\n",
        "  print(\"This is a vowel.\")\n",
        "else:\n",
        "  print(\"Not a vowel\")"
      ],
      "metadata": {
        "colab": {
          "base_uri": "https://localhost:8080/"
        },
        "id": "a-R8uJlz9Ulj",
        "outputId": "aaae6e43-de21-48d6-e64b-89b47e18eb77"
      },
      "execution_count": null,
      "outputs": [
        {
          "output_type": "stream",
          "name": "stdout",
          "text": [
            "Pass the letter to check the vowels: e\n",
            "This is a vowel.\n"
          ]
        }
      ]
    },
    {
      "cell_type": "code",
      "source": [
        "#three ways to format.\n",
        "name = \"Jatin\"\n",
        "salary = \"4300\"\n",
        "print(f\"My name is {name}, salary is {salary}\")\n",
        "print(\"My name is {}, salary is {}\".format(name, salary))\n",
        "print(\"My name is {0}, salary is {1}\".format(name,salary))"
      ],
      "metadata": {
        "colab": {
          "base_uri": "https://localhost:8080/"
        },
        "id": "GSEnlvTr9p1U",
        "outputId": "0ee96a09-df66-48ea-9f3e-1c930f94df7f"
      },
      "execution_count": 1,
      "outputs": [
        {
          "output_type": "stream",
          "name": "stdout",
          "text": [
            "My name is Jatin, salary is 4300\n",
            "My name is Jatin, salary is 4300\n",
            "My name is Jatin, salary is 4300\n"
          ]
        }
      ]
    },
    {
      "cell_type": "code",
      "source": [
        "#for a given list rotate the list by one position\n",
        "def rotate_right_by_one(lst):\n",
        "    if not lst:\n",
        "        return lst\n",
        "    return [lst[-1]] + lst[:-1]\n",
        "rotated = [lst[-1]] + lst[:-1] if lst else lst\n",
        "lst = [10, 20, 30, 40]\n",
        "print(rotate_right_by_one(lst))\n"
      ],
      "metadata": {
        "colab": {
          "base_uri": "https://localhost:8080/"
        },
        "id": "Y95V0Dr093zG",
        "outputId": "d3d24565-f973-445b-c4bc-42de2c0c8188"
      },
      "execution_count": null,
      "outputs": [
        {
          "output_type": "stream",
          "name": "stdout",
          "text": [
            "[40, 10, 20, 30]\n"
          ]
        }
      ]
    },
    {
      "cell_type": "code",
      "source": [
        "def rotate_one(lis):\n",
        "  if not lis:\n",
        "    return lis\n",
        "  return [lis[-1]] + lis[:-1]\n",
        "rotated = [lis[-1]] + lis[:-1] if lis else lis\n",
        "lis = [10,30,50,70]\n",
        "print(rotate_one(lis))"
      ],
      "metadata": {
        "colab": {
          "base_uri": "https://localhost:8080/"
        },
        "id": "tklfqf-sCu2X",
        "outputId": "1aaa73f4-5fed-4df9-ede2-ddfc3efa34e5"
      },
      "execution_count": null,
      "outputs": [
        {
          "output_type": "stream",
          "name": "stdout",
          "text": [
            "[70, 10, 30, 50]\n"
          ]
        }
      ]
    },
    {
      "cell_type": "code",
      "source": [
        "#to check if two list have any common elements.\n",
        "a = [1,2,3,4,5]\n",
        "b = [4,5,6,7,8]\n",
        "a = set(a)\n",
        "b = set(b)\n",
        "print(list(a.intersection(b)))"
      ],
      "metadata": {
        "colab": {
          "base_uri": "https://localhost:8080/"
        },
        "id": "MqWUq28rDh0k",
        "outputId": "5aa63c9f-59ac-4cd1-bf01-343a79b06c90"
      },
      "execution_count": null,
      "outputs": [
        {
          "output_type": "stream",
          "name": "stdout",
          "text": [
            "[4, 5]\n"
          ]
        }
      ]
    },
    {
      "cell_type": "code",
      "source": [
        "#flatten a nested list\n",
        "a = [[1,2], [3,4], [5,6]]\n",
        "flatten_list = [i for i in a for i in i]\n",
        "flatten_list"
      ],
      "metadata": {
        "colab": {
          "base_uri": "https://localhost:8080/"
        },
        "id": "WIDqwxs9DzoY",
        "outputId": "87c4e182-a2a6-4c99-bef6-f9e5afee634a"
      },
      "execution_count": null,
      "outputs": [
        {
          "output_type": "execute_result",
          "data": {
            "text/plain": [
              "[1, 2, 3, 4, 5, 6]"
            ]
          },
          "metadata": {},
          "execution_count": 27
        }
      ]
    },
    {
      "cell_type": "code",
      "source": [
        "a[0]+a[1]+a[2]"
      ],
      "metadata": {
        "colab": {
          "base_uri": "https://localhost:8080/"
        },
        "id": "CCyzRRhGEDkS",
        "outputId": "3c65b4b1-b4e7-4b99-8360-cd4012589ca6"
      },
      "execution_count": null,
      "outputs": [
        {
          "output_type": "execute_result",
          "data": {
            "text/plain": [
              "[1, 2, 3, 4, 5, 6]"
            ]
          },
          "metadata": {},
          "execution_count": 28
        }
      ]
    },
    {
      "cell_type": "code",
      "source": [
        "#find the cumulative sum of elements in a list.\n",
        "from itertools import accumulate\n",
        "a = [1,2,3,4,5,6,7,8,9,10]\n",
        "cum_sum = list(accumulate(a))\n",
        "cum_sum\n"
      ],
      "metadata": {
        "colab": {
          "base_uri": "https://localhost:8080/"
        },
        "id": "uu2i4l_LEHyt",
        "outputId": "71dcf828-bc9c-4458-ce5a-725a553fe98e"
      },
      "execution_count": null,
      "outputs": [
        {
          "output_type": "execute_result",
          "data": {
            "text/plain": [
              "[1, 3, 6, 10, 15, 21, 28, 36, 45, 55]"
            ]
          },
          "metadata": {},
          "execution_count": 29
        }
      ]
    },
    {
      "cell_type": "code",
      "source": [
        "#swap two variable\n",
        "a = 45\n",
        "b = 32\n",
        "a,b = b,a\n",
        "print(a)\n",
        "print(b)"
      ],
      "metadata": {
        "colab": {
          "base_uri": "https://localhost:8080/"
        },
        "id": "kacuMdokGFdC",
        "outputId": "3849aa33-7120-458a-9781-84d6fb8490dc"
      },
      "execution_count": null,
      "outputs": [
        {
          "output_type": "stream",
          "name": "stdout",
          "text": [
            "32\n",
            "45\n"
          ]
        }
      ]
    },
    {
      "cell_type": "code",
      "source": [
        "#remove duplicates from a list while preserving the orders.\n",
        "a = [1,2,3,23,2,3,2,3,2,3,4443,2,442,2]\n",
        "unique = list(dict.fromkeys(a))\n",
        "print(unique)"
      ],
      "metadata": {
        "colab": {
          "base_uri": "https://localhost:8080/"
        },
        "id": "s0hnex6kGOaK",
        "outputId": "c04b6d8b-e05a-4374-8d35-2ebd11d8e953"
      },
      "execution_count": null,
      "outputs": [
        {
          "output_type": "stream",
          "name": "stdout",
          "text": [
            "[1, 2, 3, 23, 4443, 442]\n"
          ]
        }
      ]
    },
    {
      "cell_type": "code",
      "source": [
        "#calculate the frequency of each character in a string\n",
        "from collections import Counter\n",
        "a = \"banana\"\n",
        "freq = Counter(a)\n",
        "freq\n",
        "\n"
      ],
      "metadata": {
        "colab": {
          "base_uri": "https://localhost:8080/"
        },
        "id": "UUjFhp9hG32O",
        "outputId": "9cf43519-6a82-40f9-dc2a-3e57422c95c8"
      },
      "execution_count": null,
      "outputs": [
        {
          "output_type": "execute_result",
          "data": {
            "text/plain": [
              "Counter({'b': 1, 'a': 3, 'n': 2})"
            ]
          },
          "metadata": {},
          "execution_count": 32
        }
      ]
    },
    {
      "cell_type": "code",
      "source": [
        "#Check if two strings are anagram.\n",
        "def are_anagram(str1,str2):\n",
        "  return sorted(str1) == sorted(str2)\n",
        "\n",
        "print(are_anagram(\"listen\",\"silent\"))"
      ],
      "metadata": {
        "colab": {
          "base_uri": "https://localhost:8080/"
        },
        "id": "JC0bBMX_HfXS",
        "outputId": "2128ea9c-7c43-4063-a38b-958fbd1b11a2"
      },
      "execution_count": null,
      "outputs": [
        {
          "output_type": "stream",
          "name": "stdout",
          "text": [
            "True\n"
          ]
        }
      ]
    },
    {
      "cell_type": "code",
      "source": [
        "#check if a number is prime.\n",
        "def check_prime(n):\n",
        "  if n <= 1:\n",
        "    print(\"Not a prime number.\")\n",
        "  else:\n",
        "    for i in range(2, int(n**0.5) + 1):\n",
        "      if n % i == 0:\n",
        "        print(\"Not a prime number.\")\n",
        "        break\n",
        "    else:\n",
        "      print(\"A prime number.\")\n",
        "check_prime(7)"
      ],
      "metadata": {
        "colab": {
          "base_uri": "https://localhost:8080/"
        },
        "id": "Mip49YZKI5Fq",
        "outputId": "b7d0f10f-b7a7-4d8d-d11d-59f0eac43d02"
      },
      "execution_count": null,
      "outputs": [
        {
          "output_type": "stream",
          "name": "stdout",
          "text": [
            "A prime number.\n"
          ]
        }
      ]
    },
    {
      "cell_type": "code",
      "source": [
        "#check palindrome\n",
        "n = input(\"Enter anything to find the palindrome: \")\n",
        "if n == n[::-1]:\n",
        "  print(\"It is a palindrome.\")\n",
        "else:\n",
        "  print(\"Not a palindrome.\")"
      ],
      "metadata": {
        "colab": {
          "base_uri": "https://localhost:8080/"
        },
        "id": "mivPEqKWJxV7",
        "outputId": "7df37987-26d0-468a-fe8e-fc8887e7cfee"
      },
      "execution_count": null,
      "outputs": [
        {
          "output_type": "stream",
          "name": "stdout",
          "text": [
            "Enter anything to find the palindrome: 33222\n",
            "Not a palindrome.\n"
          ]
        }
      ]
    },
    {
      "cell_type": "code",
      "source": [
        "#fibonacci series.\n",
        "def fibonacci(n):\n",
        "  a,b = 0,1\n",
        "  for i in range(n):\n",
        "    print(a, end = \" \")\n",
        "    c = a + b\n",
        "    a = b\n",
        "    b = c\n",
        "fibonacci(10)"
      ],
      "metadata": {
        "colab": {
          "base_uri": "https://localhost:8080/"
        },
        "id": "NL2MAm7yKNFU",
        "outputId": "28dc6893-6ba4-44c7-e91a-0c2d25d1b3f6"
      },
      "execution_count": null,
      "outputs": [
        {
          "output_type": "stream",
          "name": "stdout",
          "text": [
            "0 1 1 2 3 5 8 13 21 34 "
          ]
        }
      ]
    },
    {
      "cell_type": "code",
      "source": [
        "#to find the second largest number in a string\n",
        "a = \"1,2,3,4,5,6\"\n",
        "a = list(a)\n",
        "a.sort(reverse = True)\n",
        "print(a[1])"
      ],
      "metadata": {
        "colab": {
          "base_uri": "https://localhost:8080/"
        },
        "id": "IBzFRvQ4Kc77",
        "outputId": "d7be14b0-2bfe-41fa-e627-7f03df8e0273"
      },
      "execution_count": null,
      "outputs": [
        {
          "output_type": "stream",
          "name": "stdout",
          "text": [
            "5\n"
          ]
        }
      ]
    },
    {
      "cell_type": "code",
      "source": [
        "def fact(n):\n",
        "  if n == 1:\n",
        "    return n\n",
        "  else:\n",
        "    return n * fact(n-1)\n",
        "fact(4)"
      ],
      "metadata": {
        "colab": {
          "base_uri": "https://localhost:8080/"
        },
        "id": "Zi4JcjGGOXRM",
        "outputId": "a78c5089-ba7c-4a53-8c63-0d6738d41783"
      },
      "execution_count": null,
      "outputs": [
        {
          "output_type": "execute_result",
          "data": {
            "text/plain": [
              "24"
            ]
          },
          "metadata": {},
          "execution_count": 51
        }
      ]
    },
    {
      "cell_type": "code",
      "source": [
        "#to check if the passed digit is single digit or double digit, so on and so forth.\n"
      ],
      "metadata": {
        "colab": {
          "base_uri": "https://localhost:8080/"
        },
        "id": "-YK9_LdPPiL1",
        "outputId": "d4d112d3-a839-45dc-b912-ca20a248b99c"
      },
      "execution_count": null,
      "outputs": [
        {
          "output_type": "execute_result",
          "data": {
            "text/plain": [
              "Counter({'b': 1, 'a': 3, 'n': 2})"
            ]
          },
          "metadata": {},
          "execution_count": 56
        }
      ]
    },
    {
      "cell_type": "code",
      "source": [
        "#sort a dictionary by their values\n",
        "a = {\"age\" : [12,42,13,56,43]}\n",
        "sorted_dict = {\"age\": sorted(a[\"age\"])}\n",
        "sorted_dict"
      ],
      "metadata": {
        "colab": {
          "base_uri": "https://localhost:8080/"
        },
        "id": "wkyA39B0QHXS",
        "outputId": "bed431d4-f68d-47c0-a16b-39449ab54794"
      },
      "execution_count": null,
      "outputs": [
        {
          "output_type": "execute_result",
          "data": {
            "text/plain": [
              "{'age': [12, 13, 42, 43, 56]}"
            ]
          },
          "metadata": {},
          "execution_count": 68
        }
      ]
    },
    {
      "cell_type": "code",
      "source": [
        "b = {\"num\": [1,2,32,1,3,31,2,1,32,2]}\n",
        "sorted_dict = {\"num\" : sorted(a[\"age\"])}\n",
        "sorted_dict"
      ],
      "metadata": {
        "colab": {
          "base_uri": "https://localhost:8080/"
        },
        "id": "mgcISogtRM0i",
        "outputId": "b45c1776-c193-4d77-9466-a017b89dda92"
      },
      "execution_count": null,
      "outputs": [
        {
          "output_type": "execute_result",
          "data": {
            "text/plain": [
              "{'num': [12, 13, 42, 43, 56]}"
            ]
          },
          "metadata": {},
          "execution_count": 70
        }
      ]
    },
    {
      "cell_type": "code",
      "source": [
        "#merge two sorted list without using list built in function.\n",
        "\n",
        "\n",
        "\n",
        "\n",
        "\n",
        "# a = [3,4,2,4]\n",
        "# b = [3,2,4,25,3]\n",
        "# a.sort()\n",
        "# b.sort()\n",
        "# print(a)\n",
        "# print(b)\n",
        "# c = a + b\n",
        "# print(c)\n",
        "# c.sort()\n",
        "# print(c)\n"
      ],
      "metadata": {
        "id": "mwBao_SmSx82",
        "outputId": "60793f10-c17c-41e2-86ea-4bb53259f0c7",
        "colab": {
          "base_uri": "https://localhost:8080/"
        }
      },
      "execution_count": 7,
      "outputs": [
        {
          "output_type": "stream",
          "name": "stdout",
          "text": [
            "[2, 3, 4, 4]\n",
            "[2, 3, 3, 4, 25]\n",
            "[2, 3, 4, 4, 2, 3, 3, 4, 25]\n",
            "[2, 2, 3, 3, 3, 4, 4, 4, 25]\n"
          ]
        }
      ]
    },
    {
      "cell_type": "code",
      "source": [
        "#rotate a list by k position\n",
        "def rotate_list(lst, k):\n",
        "    k = k % len(lst)  # To handle k > len(lst)\n",
        "    return lst[-k:] + lst[:-k]\n",
        "\n",
        "lst = [1, 2, 3, 4, 5]\n",
        "k = 4\n",
        "print(rotate_list(lst, k))\n"
      ],
      "metadata": {
        "id": "qN7J6rlBfYaQ",
        "outputId": "0ae7c769-b1d0-44c0-a597-8a8205eab15e",
        "colab": {
          "base_uri": "https://localhost:8080/"
        }
      },
      "execution_count": 9,
      "outputs": [
        {
          "output_type": "stream",
          "name": "stdout",
          "text": [
            "[2, 3, 4, 5, 1]\n"
          ]
        }
      ]
    },
    {
      "cell_type": "code",
      "source": [
        "#groups the words that are anagram together.\n",
        "\n",
        "from collections import defaultdict\n",
        "\n",
        "def group_anagrams(words):\n",
        "    groups = defaultdict(list)\n",
        "    for word in words:\n",
        "        key = ''.join(sorted(word))\n",
        "        groups[key].append(word)\n",
        "    return list(groups.values())\n",
        "words = [\"act\", \"cat\", \"bat\", \"tab\", \"tac\"]\n",
        "print(group_anagrams(words))\n",
        "\n",
        "\n",
        "\n",
        "\n",
        "\n",
        "# def group_anagrams(words):\n",
        "#     groups = {}\n",
        "#     for word in words:\n",
        "#         key = ''.join(sorted(word))\n",
        "#         if key not in groups:\n",
        "#             groups[key] = []\n",
        "#         groups[key].append(word)\n",
        "#     return list(groups.values())\n"
      ],
      "metadata": {
        "id": "MlLnxp1Agnt_",
        "outputId": "81ab26cf-559d-4861-d7e8-dd7781c89fb3",
        "colab": {
          "base_uri": "https://localhost:8080/"
        }
      },
      "execution_count": 10,
      "outputs": [
        {
          "output_type": "stream",
          "name": "stdout",
          "text": [
            "[['act', 'cat', 'tac'], ['bat', 'tab']]\n"
          ]
        }
      ]
    },
    {
      "cell_type": "code",
      "source": [
        "def count_nulls(d):\n",
        "    count = 0\n",
        "    for v in d.values():\n",
        "        if v is None:\n",
        "            count += 1\n",
        "    return count\n",
        "def count_nulls(d):\n",
        "    return list(d.values()).count(None)\n"
      ],
      "metadata": {
        "id": "VmopUpOwg7in"
      },
      "execution_count": 11,
      "outputs": []
    },
    {
      "cell_type": "code",
      "source": [],
      "metadata": {
        "id": "qU9DcUGxhIoQ"
      },
      "execution_count": null,
      "outputs": []
    }
  ]
}